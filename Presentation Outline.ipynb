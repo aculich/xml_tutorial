{
 "cells": [
  {
   "cell_type": "raw",
   "metadata": {
    "slideshow": {
     "slide_type": "slide"
    }
   },
   "source": [
    "<style type=\"text/css\">\n",
    ".reveal {\n",
    "    font-size: 225%;\n",
    "    }\n",
    "</style>"
   ]
  },
  {
   "cell_type": "markdown",
   "metadata": {
    "slideshow": {
     "slide_type": "slide"
    }
   },
   "source": [
    "<h1>Mining scientific articles</h1>\n",
    "\n",
    "<h2>with XML, Python, and allofplos</h2>\n",
    "<br>\n",
    "<br>\n",
    "<center> \n",
    "<h4> Elizabeth Seiver<br>\n",
    "<a href=\"http://plos.org\">plos.org</a>, <a href=\"http://twitter.com/tweetotaler\">@tweetotaler</a><br>\n",
    "PLOS and The Hacker Within<br>\n",
    "Wed November 29, 2017</h4>\n",
    "</center>"
   ]
  },
  {
   "cell_type": "markdown",
   "metadata": {
    "slideshow": {
     "slide_type": "slide"
    }
   },
   "source": [
    "# Why Mine Scientific Articles?\n",
    "* Science articles represent scientific knowledge\n",
    "* XML is version of articles for machines, while PDF is for humans\n",
    "* Tool for meta-research and meta-science\n",
    "* Quickly identify sets of articles of interest\n",
    "* Identify research literature trends over time (study findings, jargon usage, citation networks)"
   ]
  },
  {
   "cell_type": "markdown",
   "metadata": {
    "slideshow": {
     "slide_type": "slide"
    }
   },
   "source": [
    "# PLOS corpus of articles\n",
    "* 220,000+ scientific articles from a wide array of research fields, focusing on the medical and life sciences\n",
    "* Since 2003\n",
    "* Open Access: free to read, free to re-use\n",
    "* Creative Commons license (CC-BY, CC0)\n",
    "* Many scientific articles are behind a paywall"
   ]
  },
  {
   "cell_type": "markdown",
   "metadata": {
    "slideshow": {
     "slide_type": "slide"
    }
   },
   "source": [
    "# Tutorial plan\n",
    "* Goal: to enable research questions about science articles\n",
    "* Will use JupyterHub and a sample corpus of 10,000 randomly selected PLOS articles\n",
    "* Won't be discussing research techniques (data analysis, natural language processing)\n",
    "* Assumes basic Python knowledge (lists, dictionaries, loops, conditionals, datetime)"
   ]
  },
  {
   "cell_type": "markdown",
   "metadata": {
    "slideshow": {
     "slide_type": "slide"
    }
   },
   "source": [
    "# Tutorial structure\n",
    "1. How to parse XML using allofplos and [lxml](http://lxml.de/tutorial.html)\n",
    "2. Basic structure of XML documents and [JATS standard](https://jats.nlm.nih.gov/)\n",
    "3. Example projects with the PLOS test corpus\n",
    "4. Hacking session: parse articles or contribute to the allofplos codebase  \n",
    "\n",
    "Exercises based on tutorial: https://github.com/eseiver/xml_tutorial"
   ]
  },
  {
   "cell_type": "markdown",
   "metadata": {
    "slideshow": {
     "slide_type": "slide"
    }
   },
   "source": [
    "# allofplos\n",
    "* Python package for both downloading and parsing PLOS XML articles\n",
    "* Turns PLOS XML articles into Python data structures\n",
    "* Doesn't require knowledge of XML to use\n",
    "* Focuses on article metadata (e.g., title, authors, date of publication)\n",
    "* Work in progress, so aspects of it may change"
   ]
  },
  {
   "cell_type": "markdown",
   "metadata": {
    "slideshow": {
     "slide_type": "slide"
    }
   },
   "source": [
    "# allofplos basics\n",
    "* Initialize an article object w/DOI or XML filename\n",
    "    * DOI (Digital Object Identifier) is a unique identifier for an online document/article\n",
    "    * All PLOS DOIs start with `\"10.1371/journal.\"`, like `\"10.1371/journal.pone.0185809\"`\n",
    "* allofplos XML files are named with last part of DOI, e.g. `\"journal.pone.0185809.xml\"`"
   ]
  },
  {
   "cell_type": "code",
   "execution_count": 1,
   "metadata": {
    "slideshow": {
     "slide_type": "subslide"
    }
   },
   "outputs": [
    {
     "data": {
      "text/plain": [
       "'Physician assessments of drug seeking behavior: A mixed methods study'"
      ]
     },
     "execution_count": 1,
     "metadata": {},
     "output_type": "execute_result"
    }
   ],
   "source": [
    "from allofplos import Article # if have run `pip install allofplos`\n",
    "# from article_class import Article  # if inside cloned GitHub directory\n",
    "\n",
    "# first instantiation of Article class by DOI\n",
    "article = Article('10.1371/journal.pone.0178690')\n",
    "article.title"
   ]
  },
  {
   "cell_type": "code",
   "execution_count": 2,
   "metadata": {
    "slideshow": {
     "slide_type": "subslide"
    }
   },
   "outputs": [
    {
     "data": {
      "text/plain": [
       "'THPdb: Database of FDA-approved peptide and protein therapeutics'"
      ]
     },
     "execution_count": 2,
     "metadata": {},
     "output_type": "execute_result"
    }
   ],
   "source": [
    "# first instantiation of Article class by filename\n",
    "article = Article.from_filename('allofplos_xml/journal.pone.0181748.xml')\n",
    "article.title"
   ]
  },
  {
   "cell_type": "code",
   "execution_count": 3,
   "metadata": {
    "slideshow": {
     "slide_type": "subslide"
    }
   },
   "outputs": [
    {
     "data": {
      "text/plain": [
       "'A checklist is associated with increased quality of reporting preclinical biomedical research: A systematic review'"
      ]
     },
     "execution_count": 3,
     "metadata": {},
     "output_type": "execute_result"
    }
   ],
   "source": [
    "# new article\n",
    "article.doi = '10.1371/journal.pone.0183591'\n",
    "article.title"
   ]
  },
  {
   "cell_type": "markdown",
   "metadata": {
    "slideshow": {
     "slide_type": "slide"
    }
   },
   "source": [
    "# Notable properties\n",
    "Try printing or returning some of these values"
   ]
  },
  {
   "cell_type": "markdown",
   "metadata": {
    "slideshow": {
     "slide_type": "subslide"
    }
   },
   "source": [
    "## Basic metadata"
   ]
  },
  {
   "cell_type": "code",
   "execution_count": 4,
   "metadata": {
    "slideshow": {
     "slide_type": "fragment"
    }
   },
   "outputs": [
    {
     "data": {
      "text/plain": [
       "'10.1371/journal.pone.0183591'"
      ]
     },
     "execution_count": 4,
     "metadata": {},
     "output_type": "execute_result"
    }
   ],
   "source": [
    "article.doi"
   ]
  },
  {
   "cell_type": "code",
   "execution_count": 5,
   "metadata": {
    "slideshow": {
     "slide_type": "fragment"
    }
   },
   "outputs": [
    {
     "data": {
      "text/plain": [
       "'PLOS ONE'"
      ]
     },
     "execution_count": 5,
     "metadata": {},
     "output_type": "execute_result"
    }
   ],
   "source": [
    "article.journal"
   ]
  },
  {
   "cell_type": "code",
   "execution_count": 6,
   "metadata": {
    "slideshow": {
     "slide_type": "fragment"
    }
   },
   "outputs": [
    {
     "data": {
      "text/plain": [
       "datetime.datetime(2017, 9, 13, 0, 0)"
      ]
     },
     "execution_count": 6,
     "metadata": {},
     "output_type": "execute_result"
    }
   ],
   "source": [
    "article.pubdate"
   ]
  },
  {
   "cell_type": "code",
   "execution_count": 7,
   "metadata": {
    "slideshow": {
     "slide_type": "subslide"
    }
   },
   "outputs": [
    {
     "data": {
      "text/plain": [
       "'A checklist is associated with increased quality of reporting preclinical biomedical research: A systematic review'"
      ]
     },
     "execution_count": 7,
     "metadata": {},
     "output_type": "execute_result"
    }
   ],
   "source": [
    "article.title"
   ]
  },
  {
   "cell_type": "code",
   "execution_count": 8,
   "metadata": {
    "slideshow": {
     "slide_type": "fragment"
    }
   },
   "outputs": [
    {
     "data": {
      "text/plain": [
       "{'fig-count': '3', 'page-count': '14', 'table-count': '2'}"
      ]
     },
     "execution_count": 8,
     "metadata": {},
     "output_type": "execute_result"
    }
   ],
   "source": [
    "article.counts"
   ]
  },
  {
   "cell_type": "code",
   "execution_count": 9,
   "metadata": {
    "slideshow": {
     "slide_type": "fragment"
    }
   },
   "outputs": [
    {
     "data": {
      "text/plain": [
       "4954"
      ]
     },
     "execution_count": 9,
     "metadata": {},
     "output_type": "execute_result"
    }
   ],
   "source": [
    "article.word_count"
   ]
  },
  {
   "cell_type": "code",
   "execution_count": 10,
   "metadata": {
    "slideshow": {
     "slide_type": "fragment"
    }
   },
   "outputs": [
    {
     "name": "stdout",
     "output_type": "stream",
     "text": [
      "Irreproducibility of preclinical biomedical research has gained recent attention. It is suggested that requiring authors to complete a checklist at the time of manuscript submission would improve the quality and transparency of scientific reporting, and ultimately enhance reproducibility. Whether a checklist \n"
     ]
    }
   ],
   "source": [
    "print(article.abstract[:310])"
   ]
  },
  {
   "cell_type": "markdown",
   "metadata": {
    "slideshow": {
     "slide_type": "subslide"
    }
   },
   "source": [
    "## People"
   ]
  },
  {
   "cell_type": "code",
   "execution_count": 11,
   "metadata": {
    "slideshow": {
     "slide_type": "fragment"
    }
   },
   "outputs": [
    {
     "data": {
      "text/plain": [
       "dict_keys(['contrib_initials', 'given_names', 'surname', 'group_name', 'ids', 'rid_dict', 'contrib_type', 'author_type', 'editor_type', 'email', 'affiliations', 'author_roles', 'footnotes'])"
      ]
     },
     "execution_count": 11,
     "metadata": {},
     "output_type": "execute_result"
    }
   ],
   "source": [
    "contributor = article.contributors[0]\n",
    "contributor.keys()"
   ]
  },
  {
   "cell_type": "code",
   "execution_count": 12,
   "metadata": {
    "slideshow": {
     "slide_type": "subslide"
    }
   },
   "outputs": [
    {
     "data": {
      "text/plain": [
       "{'affiliations': ['Division of Pulmonary, Allergy, and Critical Care Medicine, Department of Medicine, University of Pittsburgh, Pittsburgh, Pennsylvania, United States of America'],\n",
       " 'author_roles': {'CASRAI CREDiT taxonomy': ['Conceptualization',\n",
       "   'Data curation',\n",
       "   'Formal analysis',\n",
       "   'Funding acquisition',\n",
       "   'Investigation',\n",
       "   'Writing – original draft',\n",
       "   'Writing – review & editing']},\n",
       " 'author_type': 'corresponding',\n",
       " 'contrib_initials': 'SH',\n",
       " 'contrib_type': 'author',\n",
       " 'editor_type': None,\n",
       " 'email': ['shan.workmd@gmail.com'],\n",
       " 'footnotes': ['Current address: Division of Pulmonary and Critical Care, Department of Medicine, Northwestern University, Chicago, Illinois, United States of America'],\n",
       " 'given_names': 'SeungHye',\n",
       " 'group_name': None,\n",
       " 'ids': [{'authenticated': 'true',\n",
       "   'id': 'http://orcid.org/0000-0001-5625-6337',\n",
       "   'id_type': 'orcid'}],\n",
       " 'rid_dict': {'aff': ['aff001'],\n",
       "  'corresp': ['cor001'],\n",
       "  'fn': ['currentaff001']},\n",
       " 'surname': 'Han'}"
      ]
     },
     "execution_count": 12,
     "metadata": {},
     "output_type": "execute_result"
    }
   ],
   "source": [
    "article.authors[0]"
   ]
  },
  {
   "cell_type": "code",
   "execution_count": 13,
   "metadata": {
    "slideshow": {
     "slide_type": "subslide"
    }
   },
   "outputs": [
    {
     "data": {
      "text/plain": [
       "[{'affiliations': ['Division of Pulmonary, Allergy, and Critical Care Medicine, Department of Medicine, University of Pittsburgh, Pittsburgh, Pennsylvania, United States of America'],\n",
       "  'author_roles': {'CASRAI CREDiT taxonomy': ['Conceptualization',\n",
       "    'Data curation',\n",
       "    'Formal analysis',\n",
       "    'Funding acquisition',\n",
       "    'Investigation',\n",
       "    'Writing – original draft',\n",
       "    'Writing – review & editing']},\n",
       "  'author_type': 'corresponding',\n",
       "  'contrib_initials': 'SH',\n",
       "  'contrib_type': 'author',\n",
       "  'editor_type': None,\n",
       "  'email': ['shan.workmd@gmail.com'],\n",
       "  'footnotes': ['Current address: Division of Pulmonary and Critical Care, Department of Medicine, Northwestern University, Chicago, Illinois, United States of America'],\n",
       "  'given_names': 'SeungHye',\n",
       "  'group_name': None,\n",
       "  'ids': [{'authenticated': 'true',\n",
       "    'id': 'http://orcid.org/0000-0001-5625-6337',\n",
       "    'id_type': 'orcid'}],\n",
       "  'rid_dict': {'aff': ['aff001'],\n",
       "   'corresp': ['cor001'],\n",
       "   'fn': ['currentaff001']},\n",
       "  'surname': 'Han'}]"
      ]
     },
     "execution_count": 13,
     "metadata": {},
     "output_type": "execute_result"
    }
   ],
   "source": [
    "article.corr_author"
   ]
  },
  {
   "cell_type": "code",
   "execution_count": 14,
   "metadata": {
    "slideshow": {
     "slide_type": "subslide"
    }
   },
   "outputs": [
    {
     "data": {
      "text/plain": [
       "{'affiliations': ['Fraunhofer Research Institution of Marine Biotechnology, GERMANY'],\n",
       " 'author_roles': {None: ['Editor']},\n",
       " 'author_type': None,\n",
       " 'contrib_initials': 'JB',\n",
       " 'contrib_type': 'editor',\n",
       " 'editor_type': None,\n",
       " 'email': None,\n",
       " 'footnotes': [],\n",
       " 'given_names': 'Johannes',\n",
       " 'group_name': None,\n",
       " 'ids': [],\n",
       " 'rid_dict': {'aff': ['edit1']},\n",
       " 'surname': 'Boltze'}"
      ]
     },
     "execution_count": 14,
     "metadata": {},
     "output_type": "execute_result"
    }
   ],
   "source": [
    "article.editor[0]"
   ]
  },
  {
   "cell_type": "markdown",
   "metadata": {
    "slideshow": {
     "slide_type": "subslide"
    }
   },
   "source": [
    "## Article type"
   ]
  },
  {
   "cell_type": "code",
   "execution_count": 15,
   "metadata": {
    "slideshow": {
     "slide_type": "fragment"
    }
   },
   "outputs": [
    {
     "data": {
      "text/plain": [
       "'research-article'"
      ]
     },
     "execution_count": 15,
     "metadata": {},
     "output_type": "execute_result"
    }
   ],
   "source": [
    "article.type_  # JATS"
   ]
  },
  {
   "cell_type": "code",
   "execution_count": 16,
   "metadata": {
    "slideshow": {
     "slide_type": "fragment"
    }
   },
   "outputs": [
    {
     "data": {
      "text/plain": [
       "'Research Article'"
      ]
     },
     "execution_count": 16,
     "metadata": {},
     "output_type": "execute_result"
    }
   ],
   "source": [
    "article.plostype"
   ]
  },
  {
   "cell_type": "code",
   "execution_count": 17,
   "metadata": {
    "slideshow": {
     "slide_type": "fragment"
    }
   },
   "outputs": [],
   "source": [
    "article.proof  # whether an uncorrected proof/early version or not"
   ]
  },
  {
   "cell_type": "markdown",
   "metadata": {
    "slideshow": {
     "slide_type": "subslide"
    }
   },
   "source": [
    "## Local article file (more on this later)"
   ]
  },
  {
   "cell_type": "code",
   "execution_count": 18,
   "metadata": {
    "slideshow": {
     "slide_type": "fragment"
    }
   },
   "outputs": [
    {
     "data": {
      "text/plain": [
       "'/Users/Elizabeth/PLOS_Corpus_Project/allofplos/allofplos/allofplos_xml/journal.pone.0183591.xml'"
      ]
     },
     "execution_count": 18,
     "metadata": {},
     "output_type": "execute_result"
    }
   ],
   "source": [
    "article.filename"
   ]
  },
  {
   "cell_type": "code",
   "execution_count": 19,
   "metadata": {
    "slideshow": {
     "slide_type": "fragment"
    }
   },
   "outputs": [
    {
     "data": {
      "text/plain": [
       "True"
      ]
     },
     "execution_count": 19,
     "metadata": {},
     "output_type": "execute_result"
    }
   ],
   "source": [
    "article.local"
   ]
  },
  {
   "cell_type": "code",
   "execution_count": 20,
   "metadata": {
    "slideshow": {
     "slide_type": "fragment"
    }
   },
   "outputs": [
    {
     "data": {
      "text/plain": [
       "<lxml.etree._ElementTree at 0x10efa9dc8>"
      ]
     },
     "execution_count": 20,
     "metadata": {},
     "output_type": "execute_result"
    }
   ],
   "source": [
    "article.tree"
   ]
  },
  {
   "cell_type": "code",
   "execution_count": 21,
   "metadata": {
    "slideshow": {
     "slide_type": "subslide"
    }
   },
   "outputs": [
    {
     "data": {
      "text/plain": [
       "<Element article at 0x1118cf348>"
      ]
     },
     "execution_count": 21,
     "metadata": {},
     "output_type": "execute_result"
    }
   ],
   "source": [
    "article.root"
   ]
  },
  {
   "cell_type": "code",
   "execution_count": null,
   "metadata": {
    "slideshow": {
     "slide_type": "fragment"
    }
   },
   "outputs": [],
   "source": [
    "article.xml"
   ]
  },
  {
   "cell_type": "markdown",
   "metadata": {
    "slideshow": {
     "slide_type": "slide"
    }
   },
   "source": [
    "# Other notable methods"
   ]
  },
  {
   "cell_type": "code",
   "execution_count": 22,
   "metadata": {
    "slideshow": {
     "slide_type": "fragment"
    }
   },
   "outputs": [
    {
     "data": {
      "text/plain": [
       "{'accepted': datetime.datetime(2017, 8, 7, 0, 0),\n",
       " 'collection': datetime.datetime(2017, 1, 1, 0, 0),\n",
       " 'epub': datetime.datetime(2017, 9, 13, 0, 0),\n",
       " 'received': datetime.datetime(2017, 3, 19, 0, 0)}"
      ]
     },
     "execution_count": 22,
     "metadata": {},
     "output_type": "execute_result"
    }
   ],
   "source": [
    "article.get_dates()"
   ]
  },
  {
   "cell_type": "code",
   "execution_count": 23,
   "metadata": {
    "slideshow": {
     "slide_type": "fragment"
    }
   },
   "outputs": [
    {
     "data": {
      "text/plain": [
       "'works'"
      ]
     },
     "execution_count": 23,
     "metadata": {},
     "output_type": "execute_result"
    }
   ],
   "source": [
    "article.check_if_doi_resolves()"
   ]
  },
  {
   "cell_type": "code",
   "execution_count": 24,
   "metadata": {
    "slideshow": {
     "slide_type": "fragment"
    }
   },
   "outputs": [
    {
     "data": {
      "text/plain": [
       "DOI: 10.1371/journal.pone.0183591\n",
       "Title: A checklist is associated with increased quality of reporting preclinical biomedical research: A systematic review"
      ]
     },
     "execution_count": 24,
     "metadata": {},
     "output_type": "execute_result"
    }
   ],
   "source": [
    "article"
   ]
  },
  {
   "cell_type": "code",
   "execution_count": null,
   "metadata": {
    "slideshow": {
     "slide_type": "fragment"
    }
   },
   "outputs": [],
   "source": [
    "print(article)"
   ]
  }
 ],
 "metadata": {
  "celltoolbar": "Hide code",
  "kernelspec": {
   "display_name": "Python 3",
   "language": "python",
   "name": "python3"
  },
  "language_info": {
   "codemirror_mode": {
    "name": "ipython",
    "version": 3
   },
   "file_extension": ".py",
   "mimetype": "text/x-python",
   "name": "python",
   "nbconvert_exporter": "python",
   "pygments_lexer": "ipython3",
   "version": "3.6.3"
  },
  "toc": {
   "colors": {
    "hover_highlight": "#DAA520",
    "navigate_num": "#000000",
    "navigate_text": "#333333",
    "running_highlight": "#FF0000",
    "selected_highlight": "#FFD700",
    "sidebar_border": "#EEEEEE",
    "wrapper_background": "#FFFFFF"
   },
   "moveMenuLeft": true,
   "nav_menu": {
    "height": "120px",
    "width": "252px"
   },
   "navigate_menu": true,
   "number_sections": true,
   "sideBar": true,
   "threshold": 4,
   "toc_cell": false,
   "toc_section_display": "block",
   "toc_window_display": false,
   "widenNotebook": false
  }
 },
 "nbformat": 4,
 "nbformat_minor": 2
}
