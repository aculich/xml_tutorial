{
 "cells": [
  {
   "cell_type": "markdown",
   "metadata": {},
   "source": [
    "# Scope of this tutorial\n",
    "* how to parse XML using allofplos and [lxml](http://lxml.de/tutorial.html)\n",
    "* basic structure of XML documents\n",
    "* [JATS standard](https://jats.nlm.nih.gov/)\n",
    "* Brief exercises throughout at different levels of Python difficulty\n",
    "* Will use JupyterHub and a sample corpus of 10,000 randomly selected articles\n",
    "* Hacking session parse articles or contribute to the allofplos codebase"
   ]
  },
  {
   "cell_type": "markdown",
   "metadata": {},
   "source": [
    "* Goal to enable research questions about science articles\n",
    "    * Represent scientific knowledge\n",
    "* XML is version of articles for machines, while PDF is for humans\n",
    "# Why TDM is important\n",
    "* "
   ]
  },
  {
   "cell_type": "markdown",
   "metadata": {},
   "source": [
    "# PLOS corpus of articles\n",
    "* 220,000+ scientific articles from a wide array of research fields, focusing on the medical and life sciences\n",
    "* Since 2003\n",
    "* Open Access: free to read, free to re-use"
   ]
  },
  {
   "cell_type": "markdown",
   "metadata": {},
   "source": [
    "# allofplos\n",
    "* Python package for both downloading and parsing PLOS XML articles\n",
    "* gets PLOS XML articles into Python data structures as easily as possible\n",
    "* doesn't require knowledge of XML to use\n",
    "* focuses on article metadata (e.g., title, authors, date of publication)\n",
    "* work in progress, so aspects of it may change\n"
   ]
  },
  {
   "cell_type": "markdown",
   "metadata": {},
   "source": [
    "# allofplos basics\n",
    "* Initialize an article object w/DOI or XML filename\n",
    "    * DOI (Digital Object Identifier) is a unique identifier for an online document/article\n",
    "    * All PLOS DOIs start with `\"10.1371/journal.\"`, like `\"10.1371/journal.pone.0185809\"`\n",
    "* allofplos XML files are named with last part of DOI, e.g. `\"journal.pone.0185809.xml\"`"
   ]
  },
  {
   "cell_type": "code",
   "execution_count": 2,
   "metadata": {},
   "outputs": [
    {
     "data": {
      "text/plain": [
       "'More than 75 percent decline over 27 years in total flying insect biomass in protected areas'"
      ]
     },
     "execution_count": 2,
     "metadata": {},
     "output_type": "execute_result"
    }
   ],
   "source": [
    "from allofplos import Article # if have run `pip install allofplos`\n",
    "# from article_class import Article  # if inside cloned GitHub directory\n",
    "\n",
    "# first instantiation of Article class by DOI\n",
    "article = Article('10.1371/journal.pone.0185809')\n",
    "article.title"
   ]
  },
  {
   "cell_type": "code",
   "execution_count": 3,
   "metadata": {},
   "outputs": [
    {
     "data": {
      "text/plain": [
       "'Why Most Published Research Findings Are False'"
      ]
     },
     "execution_count": 3,
     "metadata": {},
     "output_type": "execute_result"
    }
   ],
   "source": [
    "# first instantiation of Article class by filename\n",
    "article = Article.from_filename('allofplos_xml/journal.pmed.0020124.xml')\n",
    "article.title"
   ]
  },
  {
   "cell_type": "code",
   "execution_count": 4,
   "metadata": {},
   "outputs": [
    {
     "data": {
      "text/plain": [
       "'A Multi-Level Bayesian Analysis of Racial Bias in Police Shootings at the County-Level in the United States, 2011–2014'"
      ]
     },
     "execution_count": 4,
     "metadata": {},
     "output_type": "execute_result"
    }
   ],
   "source": [
    "# new article\n",
    "article.doi = '10.1371/journal.pone.0141854'\n",
    "article.title"
   ]
  },
  {
   "cell_type": "markdown",
   "metadata": {},
   "source": [
    "# Notable properties\n",
    "Try printing or returning some of these values"
   ]
  },
  {
   "cell_type": "code",
   "execution_count": null,
   "metadata": {},
   "outputs": [],
   "source": [
    "# basic metadata\n",
    "article.journal\n",
    "article.pubdate  # publication date\n",
    "article.title\n",
    "article.abstract\n",
    "article.counts\n",
    "article.word_count\n",
    "\n",
    "# people\n",
    "article.contributors\n",
    "article.authors\n",
    "article.corr_author\n",
    "article.editor\n",
    "\n",
    "# article type\n",
    "article.type_  # JATS\n",
    "article.plostype\n",
    "article.proof  # whether an uncorrected proof/early version or not\n",
    "\n",
    "# local article file\n",
    "article.filename\n",
    "article.local\n",
    "article.tree\n",
    "article.root\n",
    "article.xml"
   ]
  },
  {
   "cell_type": "code",
   "execution_count": 5,
   "metadata": {},
   "outputs": [
    {
     "name": "stdout",
     "output_type": "stream",
     "text": [
      "10.1371/journal.pone.0141854\n"
     ]
    },
    {
     "data": {
      "text/plain": [
       "datetime.datetime(2015, 11, 5, 0, 0)"
      ]
     },
     "execution_count": 5,
     "metadata": {},
     "output_type": "execute_result"
    }
   ],
   "source": [
    "print(article.doi)\n",
    "article.pubdate"
   ]
  },
  {
   "cell_type": "code",
   "execution_count": 12,
   "metadata": {},
   "outputs": [],
   "source": [
    "from allofplos.samples.corpus_analysis import *"
   ]
  },
  {
   "cell_type": "code",
   "execution_count": 13,
   "metadata": {},
   "outputs": [
    {
     "ename": "FileNotFoundError",
     "evalue": "[Errno 2] No such file or directory: 'allofplos_metadata.csv'",
     "output_type": "error",
     "traceback": [
      "\u001b[0;31m---------------------------------------------------------------------------\u001b[0m",
      "\u001b[0;31mFileNotFoundError\u001b[0m                         Traceback (most recent call last)",
      "\u001b[0;32m<ipython-input-13-f9afabf32de7>\u001b[0m in \u001b[0;36m<module>\u001b[0;34m()\u001b[0m\n\u001b[0;32m----> 1\u001b[0;31m \u001b[0mread_corpus_metadata_from_csv\u001b[0m\u001b[0;34m(\u001b[0m\u001b[0;34m)\u001b[0m\u001b[0;34m\u001b[0m\u001b[0m\n\u001b[0m",
      "\u001b[0;32m~/PLOS_Corpus_Project/allofplos/allofplos/samples/corpus_analysis.py\u001b[0m in \u001b[0;36mread_corpus_metadata_from_csv\u001b[0;34m(csv_file)\u001b[0m\n\u001b[1;32m    827\u001b[0m     \u001b[0;34m:\u001b[0m\u001b[0;32mreturn\u001b[0m\u001b[0;34m:\u001b[0m \u001b[0mlist\u001b[0m \u001b[0mof\u001b[0m \u001b[0mtuples\u001b[0m \u001b[0mof\u001b[0m \u001b[0marticle\u001b[0m \u001b[0mmetadata\u001b[0m\u001b[0;34m\u001b[0m\u001b[0m\n\u001b[1;32m    828\u001b[0m     \"\"\"\n\u001b[0;32m--> 829\u001b[0;31m     \u001b[0;32mwith\u001b[0m \u001b[0mopen\u001b[0m\u001b[0;34m(\u001b[0m\u001b[0mcsv_file\u001b[0m\u001b[0;34m,\u001b[0m \u001b[0;34m'r'\u001b[0m\u001b[0;34m)\u001b[0m \u001b[0;32mas\u001b[0m \u001b[0mcsv_file\u001b[0m\u001b[0;34m:\u001b[0m\u001b[0;34m\u001b[0m\u001b[0m\n\u001b[0m\u001b[1;32m    830\u001b[0m         \u001b[0mreader\u001b[0m \u001b[0;34m=\u001b[0m \u001b[0mcsv\u001b[0m\u001b[0;34m.\u001b[0m\u001b[0mreader\u001b[0m\u001b[0;34m(\u001b[0m\u001b[0mcsv_file\u001b[0m\u001b[0;34m)\u001b[0m\u001b[0;34m\u001b[0m\u001b[0m\n\u001b[1;32m    831\u001b[0m         \u001b[0mnext\u001b[0m\u001b[0;34m(\u001b[0m\u001b[0mreader\u001b[0m\u001b[0;34m,\u001b[0m \u001b[0;32mNone\u001b[0m\u001b[0;34m)\u001b[0m\u001b[0;34m\u001b[0m\u001b[0m\n",
      "\u001b[0;31mFileNotFoundError\u001b[0m: [Errno 2] No such file or directory: 'allofplos_metadata.csv'"
     ]
    }
   ],
   "source": [
    "read_corpus_metadata_from_csv()"
   ]
  },
  {
   "cell_type": "code",
   "execution_count": null,
   "metadata": {},
   "outputs": [],
   "source": []
  }
 ],
 "metadata": {
  "kernelspec": {
   "display_name": "Python 3",
   "language": "python",
   "name": "python3"
  },
  "language_info": {
   "codemirror_mode": {
    "name": "ipython",
    "version": 3
   },
   "file_extension": ".py",
   "mimetype": "text/x-python",
   "name": "python",
   "nbconvert_exporter": "python",
   "pygments_lexer": "ipython3",
   "version": "3.6.2"
  },
  "toc": {
   "colors": {
    "hover_highlight": "#DAA520",
    "navigate_num": "#000000",
    "navigate_text": "#333333",
    "running_highlight": "#FF0000",
    "selected_highlight": "#FFD700",
    "sidebar_border": "#EEEEEE",
    "wrapper_background": "#FFFFFF"
   },
   "moveMenuLeft": true,
   "nav_menu": {
    "height": "120px",
    "width": "252px"
   },
   "navigate_menu": true,
   "number_sections": true,
   "sideBar": true,
   "threshold": 4,
   "toc_cell": false,
   "toc_section_display": "block",
   "toc_window_display": false,
   "widenNotebook": false
  }
 },
 "nbformat": 4,
 "nbformat_minor": 2
}
