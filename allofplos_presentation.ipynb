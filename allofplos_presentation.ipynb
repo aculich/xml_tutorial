{
 "cells": [
  {
   "cell_type": "code",
   "execution_count": 77,
   "metadata": {
    "hideCode": true,
    "hideOutput": true,
    "hidePrompt": true,
    "slideshow": {
     "slide_type": "skip"
    }
   },
   "outputs": [],
   "source": [
    "from display_xml import XML\n",
    "import lxml.etree as et\n",
    "test_file = 'element.xml'\n",
    "parser = et.XMLParser(remove_blank_text=True)\n",
    "test_tree = et.parse(test_file, parser)\n",
    "test_root = test_tree.getroot()"
   ]
  },
  {
   "cell_type": "markdown",
   "metadata": {
    "hidePrompt": false
   },
   "source": [
    "# Primer on XML elements\n",
    "## Why use lxml.etree for parsing XML documents?\n",
    "* JATS standard for scientific article XML is consistent\n",
    "* BeautifulSoup better for unreliable web documents\n",
    "* lxml.etree and BeautifulSoup each have a module of the other\n",
    "* The following XML element examples are from actual PLOS articles"
   ]
  },
  {
   "cell_type": "markdown",
   "metadata": {},
   "source": [
    "# Primer on XML elements\n",
    "## XML elements have four key properties in the lxml.etree library\n",
    "1. element.tag\n",
    "2. element.text\n",
    "3. element.attrib\n",
    "4. element.tail\n"
   ]
  },
  {
   "cell_type": "markdown",
   "metadata": {},
   "source": [
    "## Example basic element"
   ]
  },
  {
   "cell_type": "code",
   "execution_count": 55,
   "metadata": {
    "hideCode": true,
    "hidePrompt": true
   },
   "outputs": [
    {
     "data": {
      "text/html": [
       "\n",
       "    <div class=a2e76d7d5-9b65-490b-951d-04419a83395d> \n",
       "        <style>\n",
       "            div.a2e76d7d5-9b65-490b-951d-04419a83395d .hll { background-color: #ffffcc }\n",
       "div.a2e76d7d5-9b65-490b-951d-04419a83395d .c { color: #408080; font-style: italic } /* Comment */\n",
       "div.a2e76d7d5-9b65-490b-951d-04419a83395d .err { border: 1px solid #FF0000 } /* Error */\n",
       "div.a2e76d7d5-9b65-490b-951d-04419a83395d .k { color: #008000; font-weight: bold } /* Keyword */\n",
       "div.a2e76d7d5-9b65-490b-951d-04419a83395d .o { color: #666666 } /* Operator */\n",
       "div.a2e76d7d5-9b65-490b-951d-04419a83395d .ch { color: #408080; font-style: italic } /* Comment.Hashbang */\n",
       "div.a2e76d7d5-9b65-490b-951d-04419a83395d .cm { color: #408080; font-style: italic } /* Comment.Multiline */\n",
       "div.a2e76d7d5-9b65-490b-951d-04419a83395d .cp { color: #BC7A00 } /* Comment.Preproc */\n",
       "div.a2e76d7d5-9b65-490b-951d-04419a83395d .cpf { color: #408080; font-style: italic } /* Comment.PreprocFile */\n",
       "div.a2e76d7d5-9b65-490b-951d-04419a83395d .c1 { color: #408080; font-style: italic } /* Comment.Single */\n",
       "div.a2e76d7d5-9b65-490b-951d-04419a83395d .cs { color: #408080; font-style: italic } /* Comment.Special */\n",
       "div.a2e76d7d5-9b65-490b-951d-04419a83395d .gd { color: #A00000 } /* Generic.Deleted */\n",
       "div.a2e76d7d5-9b65-490b-951d-04419a83395d .ge { font-style: italic } /* Generic.Emph */\n",
       "div.a2e76d7d5-9b65-490b-951d-04419a83395d .gr { color: #FF0000 } /* Generic.Error */\n",
       "div.a2e76d7d5-9b65-490b-951d-04419a83395d .gh { color: #000080; font-weight: bold } /* Generic.Heading */\n",
       "div.a2e76d7d5-9b65-490b-951d-04419a83395d .gi { color: #00A000 } /* Generic.Inserted */\n",
       "div.a2e76d7d5-9b65-490b-951d-04419a83395d .go { color: #888888 } /* Generic.Output */\n",
       "div.a2e76d7d5-9b65-490b-951d-04419a83395d .gp { color: #000080; font-weight: bold } /* Generic.Prompt */\n",
       "div.a2e76d7d5-9b65-490b-951d-04419a83395d .gs { font-weight: bold } /* Generic.Strong */\n",
       "div.a2e76d7d5-9b65-490b-951d-04419a83395d .gu { color: #800080; font-weight: bold } /* Generic.Subheading */\n",
       "div.a2e76d7d5-9b65-490b-951d-04419a83395d .gt { color: #0044DD } /* Generic.Traceback */\n",
       "div.a2e76d7d5-9b65-490b-951d-04419a83395d .kc { color: #008000; font-weight: bold } /* Keyword.Constant */\n",
       "div.a2e76d7d5-9b65-490b-951d-04419a83395d .kd { color: #008000; font-weight: bold } /* Keyword.Declaration */\n",
       "div.a2e76d7d5-9b65-490b-951d-04419a83395d .kn { color: #008000; font-weight: bold } /* Keyword.Namespace */\n",
       "div.a2e76d7d5-9b65-490b-951d-04419a83395d .kp { color: #008000 } /* Keyword.Pseudo */\n",
       "div.a2e76d7d5-9b65-490b-951d-04419a83395d .kr { color: #008000; font-weight: bold } /* Keyword.Reserved */\n",
       "div.a2e76d7d5-9b65-490b-951d-04419a83395d .kt { color: #B00040 } /* Keyword.Type */\n",
       "div.a2e76d7d5-9b65-490b-951d-04419a83395d .m { color: #666666 } /* Literal.Number */\n",
       "div.a2e76d7d5-9b65-490b-951d-04419a83395d .s { color: #BA2121 } /* Literal.String */\n",
       "div.a2e76d7d5-9b65-490b-951d-04419a83395d .na { color: #7D9029 } /* Name.Attribute */\n",
       "div.a2e76d7d5-9b65-490b-951d-04419a83395d .nb { color: #008000 } /* Name.Builtin */\n",
       "div.a2e76d7d5-9b65-490b-951d-04419a83395d .nc { color: #0000FF; font-weight: bold } /* Name.Class */\n",
       "div.a2e76d7d5-9b65-490b-951d-04419a83395d .no { color: #880000 } /* Name.Constant */\n",
       "div.a2e76d7d5-9b65-490b-951d-04419a83395d .nd { color: #AA22FF } /* Name.Decorator */\n",
       "div.a2e76d7d5-9b65-490b-951d-04419a83395d .ni { color: #999999; font-weight: bold } /* Name.Entity */\n",
       "div.a2e76d7d5-9b65-490b-951d-04419a83395d .ne { color: #D2413A; font-weight: bold } /* Name.Exception */\n",
       "div.a2e76d7d5-9b65-490b-951d-04419a83395d .nf { color: #0000FF } /* Name.Function */\n",
       "div.a2e76d7d5-9b65-490b-951d-04419a83395d .nl { color: #A0A000 } /* Name.Label */\n",
       "div.a2e76d7d5-9b65-490b-951d-04419a83395d .nn { color: #0000FF; font-weight: bold } /* Name.Namespace */\n",
       "div.a2e76d7d5-9b65-490b-951d-04419a83395d .nt { color: #008000; font-weight: bold } /* Name.Tag */\n",
       "div.a2e76d7d5-9b65-490b-951d-04419a83395d .nv { color: #19177C } /* Name.Variable */\n",
       "div.a2e76d7d5-9b65-490b-951d-04419a83395d .ow { color: #AA22FF; font-weight: bold } /* Operator.Word */\n",
       "div.a2e76d7d5-9b65-490b-951d-04419a83395d .w { color: #bbbbbb } /* Text.Whitespace */\n",
       "div.a2e76d7d5-9b65-490b-951d-04419a83395d .mb { color: #666666 } /* Literal.Number.Bin */\n",
       "div.a2e76d7d5-9b65-490b-951d-04419a83395d .mf { color: #666666 } /* Literal.Number.Float */\n",
       "div.a2e76d7d5-9b65-490b-951d-04419a83395d .mh { color: #666666 } /* Literal.Number.Hex */\n",
       "div.a2e76d7d5-9b65-490b-951d-04419a83395d .mi { color: #666666 } /* Literal.Number.Integer */\n",
       "div.a2e76d7d5-9b65-490b-951d-04419a83395d .mo { color: #666666 } /* Literal.Number.Oct */\n",
       "div.a2e76d7d5-9b65-490b-951d-04419a83395d .sa { color: #BA2121 } /* Literal.String.Affix */\n",
       "div.a2e76d7d5-9b65-490b-951d-04419a83395d .sb { color: #BA2121 } /* Literal.String.Backtick */\n",
       "div.a2e76d7d5-9b65-490b-951d-04419a83395d .sc { color: #BA2121 } /* Literal.String.Char */\n",
       "div.a2e76d7d5-9b65-490b-951d-04419a83395d .dl { color: #BA2121 } /* Literal.String.Delimiter */\n",
       "div.a2e76d7d5-9b65-490b-951d-04419a83395d .sd { color: #BA2121; font-style: italic } /* Literal.String.Doc */\n",
       "div.a2e76d7d5-9b65-490b-951d-04419a83395d .s2 { color: #BA2121 } /* Literal.String.Double */\n",
       "div.a2e76d7d5-9b65-490b-951d-04419a83395d .se { color: #BB6622; font-weight: bold } /* Literal.String.Escape */\n",
       "div.a2e76d7d5-9b65-490b-951d-04419a83395d .sh { color: #BA2121 } /* Literal.String.Heredoc */\n",
       "div.a2e76d7d5-9b65-490b-951d-04419a83395d .si { color: #BB6688; font-weight: bold } /* Literal.String.Interpol */\n",
       "div.a2e76d7d5-9b65-490b-951d-04419a83395d .sx { color: #008000 } /* Literal.String.Other */\n",
       "div.a2e76d7d5-9b65-490b-951d-04419a83395d .sr { color: #BB6688 } /* Literal.String.Regex */\n",
       "div.a2e76d7d5-9b65-490b-951d-04419a83395d .s1 { color: #BA2121 } /* Literal.String.Single */\n",
       "div.a2e76d7d5-9b65-490b-951d-04419a83395d .ss { color: #19177C } /* Literal.String.Symbol */\n",
       "div.a2e76d7d5-9b65-490b-951d-04419a83395d .bp { color: #008000 } /* Name.Builtin.Pseudo */\n",
       "div.a2e76d7d5-9b65-490b-951d-04419a83395d .fm { color: #0000FF } /* Name.Function.Magic */\n",
       "div.a2e76d7d5-9b65-490b-951d-04419a83395d .vc { color: #19177C } /* Name.Variable.Class */\n",
       "div.a2e76d7d5-9b65-490b-951d-04419a83395d .vg { color: #19177C } /* Name.Variable.Global */\n",
       "div.a2e76d7d5-9b65-490b-951d-04419a83395d .vi { color: #19177C } /* Name.Variable.Instance */\n",
       "div.a2e76d7d5-9b65-490b-951d-04419a83395d .vm { color: #19177C } /* Name.Variable.Magic */\n",
       "div.a2e76d7d5-9b65-490b-951d-04419a83395d .il { color: #666666 } /* Literal.Number.Integer.Long */\n",
       "        </style>\n",
       "        <div class=\"highlight\"><pre><span></span><span class=\"nt\">&lt;article-title&gt;</span>Why Most Published Research Findings Are False<span class=\"nt\">&lt;/article-title&gt;</span>\n",
       "</pre></div>\n",
       "\n",
       "    </div>\n",
       "    "
      ],
      "text/plain": [
       "<display_xml.XML at 0x10b65b4e0>"
      ]
     },
     "execution_count": 55,
     "metadata": {},
     "output_type": "execute_result"
    }
   ],
   "source": [
    "element = test_root.getchildren()[0]\n",
    "XML(element)"
   ]
  },
  {
   "cell_type": "code",
   "execution_count": 56,
   "metadata": {},
   "outputs": [
    {
     "data": {
      "text/plain": [
       "'article-title'"
      ]
     },
     "execution_count": 56,
     "metadata": {},
     "output_type": "execute_result"
    }
   ],
   "source": [
    "element.tag"
   ]
  },
  {
   "cell_type": "code",
   "execution_count": 57,
   "metadata": {},
   "outputs": [
    {
     "data": {
      "text/plain": [
       "'Why Most Published Research Findings Are False'"
      ]
     },
     "execution_count": 57,
     "metadata": {},
     "output_type": "execute_result"
    }
   ],
   "source": [
    "element.text"
   ]
  },
  {
   "cell_type": "markdown",
   "metadata": {},
   "source": [
    "## Basic element with attribute"
   ]
  },
  {
   "cell_type": "code",
   "execution_count": 96,
   "metadata": {
    "hideCode": true,
    "hidePrompt": true
   },
   "outputs": [
    {
     "data": {
      "text/html": [
       "\n",
       "    <div class=af52dbee2-784b-4be1-852d-1ccee0e50ff6> \n",
       "        <style>\n",
       "            div.af52dbee2-784b-4be1-852d-1ccee0e50ff6 .hll { background-color: #ffffcc }\n",
       "div.af52dbee2-784b-4be1-852d-1ccee0e50ff6 .c { color: #408080; font-style: italic } /* Comment */\n",
       "div.af52dbee2-784b-4be1-852d-1ccee0e50ff6 .err { border: 1px solid #FF0000 } /* Error */\n",
       "div.af52dbee2-784b-4be1-852d-1ccee0e50ff6 .k { color: #008000; font-weight: bold } /* Keyword */\n",
       "div.af52dbee2-784b-4be1-852d-1ccee0e50ff6 .o { color: #666666 } /* Operator */\n",
       "div.af52dbee2-784b-4be1-852d-1ccee0e50ff6 .ch { color: #408080; font-style: italic } /* Comment.Hashbang */\n",
       "div.af52dbee2-784b-4be1-852d-1ccee0e50ff6 .cm { color: #408080; font-style: italic } /* Comment.Multiline */\n",
       "div.af52dbee2-784b-4be1-852d-1ccee0e50ff6 .cp { color: #BC7A00 } /* Comment.Preproc */\n",
       "div.af52dbee2-784b-4be1-852d-1ccee0e50ff6 .cpf { color: #408080; font-style: italic } /* Comment.PreprocFile */\n",
       "div.af52dbee2-784b-4be1-852d-1ccee0e50ff6 .c1 { color: #408080; font-style: italic } /* Comment.Single */\n",
       "div.af52dbee2-784b-4be1-852d-1ccee0e50ff6 .cs { color: #408080; font-style: italic } /* Comment.Special */\n",
       "div.af52dbee2-784b-4be1-852d-1ccee0e50ff6 .gd { color: #A00000 } /* Generic.Deleted */\n",
       "div.af52dbee2-784b-4be1-852d-1ccee0e50ff6 .ge { font-style: italic } /* Generic.Emph */\n",
       "div.af52dbee2-784b-4be1-852d-1ccee0e50ff6 .gr { color: #FF0000 } /* Generic.Error */\n",
       "div.af52dbee2-784b-4be1-852d-1ccee0e50ff6 .gh { color: #000080; font-weight: bold } /* Generic.Heading */\n",
       "div.af52dbee2-784b-4be1-852d-1ccee0e50ff6 .gi { color: #00A000 } /* Generic.Inserted */\n",
       "div.af52dbee2-784b-4be1-852d-1ccee0e50ff6 .go { color: #888888 } /* Generic.Output */\n",
       "div.af52dbee2-784b-4be1-852d-1ccee0e50ff6 .gp { color: #000080; font-weight: bold } /* Generic.Prompt */\n",
       "div.af52dbee2-784b-4be1-852d-1ccee0e50ff6 .gs { font-weight: bold } /* Generic.Strong */\n",
       "div.af52dbee2-784b-4be1-852d-1ccee0e50ff6 .gu { color: #800080; font-weight: bold } /* Generic.Subheading */\n",
       "div.af52dbee2-784b-4be1-852d-1ccee0e50ff6 .gt { color: #0044DD } /* Generic.Traceback */\n",
       "div.af52dbee2-784b-4be1-852d-1ccee0e50ff6 .kc { color: #008000; font-weight: bold } /* Keyword.Constant */\n",
       "div.af52dbee2-784b-4be1-852d-1ccee0e50ff6 .kd { color: #008000; font-weight: bold } /* Keyword.Declaration */\n",
       "div.af52dbee2-784b-4be1-852d-1ccee0e50ff6 .kn { color: #008000; font-weight: bold } /* Keyword.Namespace */\n",
       "div.af52dbee2-784b-4be1-852d-1ccee0e50ff6 .kp { color: #008000 } /* Keyword.Pseudo */\n",
       "div.af52dbee2-784b-4be1-852d-1ccee0e50ff6 .kr { color: #008000; font-weight: bold } /* Keyword.Reserved */\n",
       "div.af52dbee2-784b-4be1-852d-1ccee0e50ff6 .kt { color: #B00040 } /* Keyword.Type */\n",
       "div.af52dbee2-784b-4be1-852d-1ccee0e50ff6 .m { color: #666666 } /* Literal.Number */\n",
       "div.af52dbee2-784b-4be1-852d-1ccee0e50ff6 .s { color: #BA2121 } /* Literal.String */\n",
       "div.af52dbee2-784b-4be1-852d-1ccee0e50ff6 .na { color: #7D9029 } /* Name.Attribute */\n",
       "div.af52dbee2-784b-4be1-852d-1ccee0e50ff6 .nb { color: #008000 } /* Name.Builtin */\n",
       "div.af52dbee2-784b-4be1-852d-1ccee0e50ff6 .nc { color: #0000FF; font-weight: bold } /* Name.Class */\n",
       "div.af52dbee2-784b-4be1-852d-1ccee0e50ff6 .no { color: #880000 } /* Name.Constant */\n",
       "div.af52dbee2-784b-4be1-852d-1ccee0e50ff6 .nd { color: #AA22FF } /* Name.Decorator */\n",
       "div.af52dbee2-784b-4be1-852d-1ccee0e50ff6 .ni { color: #999999; font-weight: bold } /* Name.Entity */\n",
       "div.af52dbee2-784b-4be1-852d-1ccee0e50ff6 .ne { color: #D2413A; font-weight: bold } /* Name.Exception */\n",
       "div.af52dbee2-784b-4be1-852d-1ccee0e50ff6 .nf { color: #0000FF } /* Name.Function */\n",
       "div.af52dbee2-784b-4be1-852d-1ccee0e50ff6 .nl { color: #A0A000 } /* Name.Label */\n",
       "div.af52dbee2-784b-4be1-852d-1ccee0e50ff6 .nn { color: #0000FF; font-weight: bold } /* Name.Namespace */\n",
       "div.af52dbee2-784b-4be1-852d-1ccee0e50ff6 .nt { color: #008000; font-weight: bold } /* Name.Tag */\n",
       "div.af52dbee2-784b-4be1-852d-1ccee0e50ff6 .nv { color: #19177C } /* Name.Variable */\n",
       "div.af52dbee2-784b-4be1-852d-1ccee0e50ff6 .ow { color: #AA22FF; font-weight: bold } /* Operator.Word */\n",
       "div.af52dbee2-784b-4be1-852d-1ccee0e50ff6 .w { color: #bbbbbb } /* Text.Whitespace */\n",
       "div.af52dbee2-784b-4be1-852d-1ccee0e50ff6 .mb { color: #666666 } /* Literal.Number.Bin */\n",
       "div.af52dbee2-784b-4be1-852d-1ccee0e50ff6 .mf { color: #666666 } /* Literal.Number.Float */\n",
       "div.af52dbee2-784b-4be1-852d-1ccee0e50ff6 .mh { color: #666666 } /* Literal.Number.Hex */\n",
       "div.af52dbee2-784b-4be1-852d-1ccee0e50ff6 .mi { color: #666666 } /* Literal.Number.Integer */\n",
       "div.af52dbee2-784b-4be1-852d-1ccee0e50ff6 .mo { color: #666666 } /* Literal.Number.Oct */\n",
       "div.af52dbee2-784b-4be1-852d-1ccee0e50ff6 .sa { color: #BA2121 } /* Literal.String.Affix */\n",
       "div.af52dbee2-784b-4be1-852d-1ccee0e50ff6 .sb { color: #BA2121 } /* Literal.String.Backtick */\n",
       "div.af52dbee2-784b-4be1-852d-1ccee0e50ff6 .sc { color: #BA2121 } /* Literal.String.Char */\n",
       "div.af52dbee2-784b-4be1-852d-1ccee0e50ff6 .dl { color: #BA2121 } /* Literal.String.Delimiter */\n",
       "div.af52dbee2-784b-4be1-852d-1ccee0e50ff6 .sd { color: #BA2121; font-style: italic } /* Literal.String.Doc */\n",
       "div.af52dbee2-784b-4be1-852d-1ccee0e50ff6 .s2 { color: #BA2121 } /* Literal.String.Double */\n",
       "div.af52dbee2-784b-4be1-852d-1ccee0e50ff6 .se { color: #BB6622; font-weight: bold } /* Literal.String.Escape */\n",
       "div.af52dbee2-784b-4be1-852d-1ccee0e50ff6 .sh { color: #BA2121 } /* Literal.String.Heredoc */\n",
       "div.af52dbee2-784b-4be1-852d-1ccee0e50ff6 .si { color: #BB6688; font-weight: bold } /* Literal.String.Interpol */\n",
       "div.af52dbee2-784b-4be1-852d-1ccee0e50ff6 .sx { color: #008000 } /* Literal.String.Other */\n",
       "div.af52dbee2-784b-4be1-852d-1ccee0e50ff6 .sr { color: #BB6688 } /* Literal.String.Regex */\n",
       "div.af52dbee2-784b-4be1-852d-1ccee0e50ff6 .s1 { color: #BA2121 } /* Literal.String.Single */\n",
       "div.af52dbee2-784b-4be1-852d-1ccee0e50ff6 .ss { color: #19177C } /* Literal.String.Symbol */\n",
       "div.af52dbee2-784b-4be1-852d-1ccee0e50ff6 .bp { color: #008000 } /* Name.Builtin.Pseudo */\n",
       "div.af52dbee2-784b-4be1-852d-1ccee0e50ff6 .fm { color: #0000FF } /* Name.Function.Magic */\n",
       "div.af52dbee2-784b-4be1-852d-1ccee0e50ff6 .vc { color: #19177C } /* Name.Variable.Class */\n",
       "div.af52dbee2-784b-4be1-852d-1ccee0e50ff6 .vg { color: #19177C } /* Name.Variable.Global */\n",
       "div.af52dbee2-784b-4be1-852d-1ccee0e50ff6 .vi { color: #19177C } /* Name.Variable.Instance */\n",
       "div.af52dbee2-784b-4be1-852d-1ccee0e50ff6 .vm { color: #19177C } /* Name.Variable.Magic */\n",
       "div.af52dbee2-784b-4be1-852d-1ccee0e50ff6 .il { color: #666666 } /* Literal.Number.Integer.Long */\n",
       "        </style>\n",
       "        <div class=\"highlight\"><pre><span></span><span class=\"nt\">&lt;alt-title</span> <span class=\"na\">alt-title-type=</span><span class=\"s\">&quot;running-head&quot;</span><span class=\"nt\">&gt;</span>Essay<span class=\"nt\">&lt;/alt-title&gt;</span>\n",
       "</pre></div>\n",
       "\n",
       "    </div>\n",
       "    "
      ],
      "text/plain": [
       "<display_xml.XML at 0x10b65f438>"
      ]
     },
     "execution_count": 96,
     "metadata": {},
     "output_type": "execute_result"
    }
   ],
   "source": [
    "element = test_root.getchildren()[1]\n",
    "XML(element)"
   ]
  },
  {
   "cell_type": "code",
   "execution_count": 97,
   "metadata": {},
   "outputs": [
    {
     "data": {
      "text/plain": [
       "'alt-title'"
      ]
     },
     "execution_count": 97,
     "metadata": {},
     "output_type": "execute_result"
    }
   ],
   "source": [
    "element.tag"
   ]
  },
  {
   "cell_type": "code",
   "execution_count": 98,
   "metadata": {},
   "outputs": [
    {
     "data": {
      "text/plain": [
       "'Essay'"
      ]
     },
     "execution_count": 98,
     "metadata": {},
     "output_type": "execute_result"
    }
   ],
   "source": [
    "element.text"
   ]
  },
  {
   "cell_type": "code",
   "execution_count": 99,
   "metadata": {},
   "outputs": [
    {
     "data": {
      "text/plain": [
       "{'alt-title-type': 'running-head'}"
      ]
     },
     "execution_count": 99,
     "metadata": {},
     "output_type": "execute_result"
    }
   ],
   "source": [
    "element.attrib"
   ]
  },
  {
   "cell_type": "code",
   "execution_count": 100,
   "metadata": {},
   "outputs": [],
   "source": [
    "# for any text that comes directly after closing tag and before another tag\n",
    "element.tail"
   ]
  },
  {
   "cell_type": "markdown",
   "metadata": {},
   "source": [
    "## An element attribute is a dictionary\n",
    "### Appears inside the element tag"
   ]
  },
  {
   "cell_type": "code",
   "execution_count": 101,
   "metadata": {
    "hideCode": false,
    "hidePrompt": true
   },
   "outputs": [
    {
     "data": {
      "text/html": [
       "\n",
       "    <div class=ae7413d85-3cf7-4d54-8418-c954a0933fd5> \n",
       "        <style>\n",
       "            div.ae7413d85-3cf7-4d54-8418-c954a0933fd5 .hll { background-color: #ffffcc }\n",
       "div.ae7413d85-3cf7-4d54-8418-c954a0933fd5 .c { color: #408080; font-style: italic } /* Comment */\n",
       "div.ae7413d85-3cf7-4d54-8418-c954a0933fd5 .err { border: 1px solid #FF0000 } /* Error */\n",
       "div.ae7413d85-3cf7-4d54-8418-c954a0933fd5 .k { color: #008000; font-weight: bold } /* Keyword */\n",
       "div.ae7413d85-3cf7-4d54-8418-c954a0933fd5 .o { color: #666666 } /* Operator */\n",
       "div.ae7413d85-3cf7-4d54-8418-c954a0933fd5 .ch { color: #408080; font-style: italic } /* Comment.Hashbang */\n",
       "div.ae7413d85-3cf7-4d54-8418-c954a0933fd5 .cm { color: #408080; font-style: italic } /* Comment.Multiline */\n",
       "div.ae7413d85-3cf7-4d54-8418-c954a0933fd5 .cp { color: #BC7A00 } /* Comment.Preproc */\n",
       "div.ae7413d85-3cf7-4d54-8418-c954a0933fd5 .cpf { color: #408080; font-style: italic } /* Comment.PreprocFile */\n",
       "div.ae7413d85-3cf7-4d54-8418-c954a0933fd5 .c1 { color: #408080; font-style: italic } /* Comment.Single */\n",
       "div.ae7413d85-3cf7-4d54-8418-c954a0933fd5 .cs { color: #408080; font-style: italic } /* Comment.Special */\n",
       "div.ae7413d85-3cf7-4d54-8418-c954a0933fd5 .gd { color: #A00000 } /* Generic.Deleted */\n",
       "div.ae7413d85-3cf7-4d54-8418-c954a0933fd5 .ge { font-style: italic } /* Generic.Emph */\n",
       "div.ae7413d85-3cf7-4d54-8418-c954a0933fd5 .gr { color: #FF0000 } /* Generic.Error */\n",
       "div.ae7413d85-3cf7-4d54-8418-c954a0933fd5 .gh { color: #000080; font-weight: bold } /* Generic.Heading */\n",
       "div.ae7413d85-3cf7-4d54-8418-c954a0933fd5 .gi { color: #00A000 } /* Generic.Inserted */\n",
       "div.ae7413d85-3cf7-4d54-8418-c954a0933fd5 .go { color: #888888 } /* Generic.Output */\n",
       "div.ae7413d85-3cf7-4d54-8418-c954a0933fd5 .gp { color: #000080; font-weight: bold } /* Generic.Prompt */\n",
       "div.ae7413d85-3cf7-4d54-8418-c954a0933fd5 .gs { font-weight: bold } /* Generic.Strong */\n",
       "div.ae7413d85-3cf7-4d54-8418-c954a0933fd5 .gu { color: #800080; font-weight: bold } /* Generic.Subheading */\n",
       "div.ae7413d85-3cf7-4d54-8418-c954a0933fd5 .gt { color: #0044DD } /* Generic.Traceback */\n",
       "div.ae7413d85-3cf7-4d54-8418-c954a0933fd5 .kc { color: #008000; font-weight: bold } /* Keyword.Constant */\n",
       "div.ae7413d85-3cf7-4d54-8418-c954a0933fd5 .kd { color: #008000; font-weight: bold } /* Keyword.Declaration */\n",
       "div.ae7413d85-3cf7-4d54-8418-c954a0933fd5 .kn { color: #008000; font-weight: bold } /* Keyword.Namespace */\n",
       "div.ae7413d85-3cf7-4d54-8418-c954a0933fd5 .kp { color: #008000 } /* Keyword.Pseudo */\n",
       "div.ae7413d85-3cf7-4d54-8418-c954a0933fd5 .kr { color: #008000; font-weight: bold } /* Keyword.Reserved */\n",
       "div.ae7413d85-3cf7-4d54-8418-c954a0933fd5 .kt { color: #B00040 } /* Keyword.Type */\n",
       "div.ae7413d85-3cf7-4d54-8418-c954a0933fd5 .m { color: #666666 } /* Literal.Number */\n",
       "div.ae7413d85-3cf7-4d54-8418-c954a0933fd5 .s { color: #BA2121 } /* Literal.String */\n",
       "div.ae7413d85-3cf7-4d54-8418-c954a0933fd5 .na { color: #7D9029 } /* Name.Attribute */\n",
       "div.ae7413d85-3cf7-4d54-8418-c954a0933fd5 .nb { color: #008000 } /* Name.Builtin */\n",
       "div.ae7413d85-3cf7-4d54-8418-c954a0933fd5 .nc { color: #0000FF; font-weight: bold } /* Name.Class */\n",
       "div.ae7413d85-3cf7-4d54-8418-c954a0933fd5 .no { color: #880000 } /* Name.Constant */\n",
       "div.ae7413d85-3cf7-4d54-8418-c954a0933fd5 .nd { color: #AA22FF } /* Name.Decorator */\n",
       "div.ae7413d85-3cf7-4d54-8418-c954a0933fd5 .ni { color: #999999; font-weight: bold } /* Name.Entity */\n",
       "div.ae7413d85-3cf7-4d54-8418-c954a0933fd5 .ne { color: #D2413A; font-weight: bold } /* Name.Exception */\n",
       "div.ae7413d85-3cf7-4d54-8418-c954a0933fd5 .nf { color: #0000FF } /* Name.Function */\n",
       "div.ae7413d85-3cf7-4d54-8418-c954a0933fd5 .nl { color: #A0A000 } /* Name.Label */\n",
       "div.ae7413d85-3cf7-4d54-8418-c954a0933fd5 .nn { color: #0000FF; font-weight: bold } /* Name.Namespace */\n",
       "div.ae7413d85-3cf7-4d54-8418-c954a0933fd5 .nt { color: #008000; font-weight: bold } /* Name.Tag */\n",
       "div.ae7413d85-3cf7-4d54-8418-c954a0933fd5 .nv { color: #19177C } /* Name.Variable */\n",
       "div.ae7413d85-3cf7-4d54-8418-c954a0933fd5 .ow { color: #AA22FF; font-weight: bold } /* Operator.Word */\n",
       "div.ae7413d85-3cf7-4d54-8418-c954a0933fd5 .w { color: #bbbbbb } /* Text.Whitespace */\n",
       "div.ae7413d85-3cf7-4d54-8418-c954a0933fd5 .mb { color: #666666 } /* Literal.Number.Bin */\n",
       "div.ae7413d85-3cf7-4d54-8418-c954a0933fd5 .mf { color: #666666 } /* Literal.Number.Float */\n",
       "div.ae7413d85-3cf7-4d54-8418-c954a0933fd5 .mh { color: #666666 } /* Literal.Number.Hex */\n",
       "div.ae7413d85-3cf7-4d54-8418-c954a0933fd5 .mi { color: #666666 } /* Literal.Number.Integer */\n",
       "div.ae7413d85-3cf7-4d54-8418-c954a0933fd5 .mo { color: #666666 } /* Literal.Number.Oct */\n",
       "div.ae7413d85-3cf7-4d54-8418-c954a0933fd5 .sa { color: #BA2121 } /* Literal.String.Affix */\n",
       "div.ae7413d85-3cf7-4d54-8418-c954a0933fd5 .sb { color: #BA2121 } /* Literal.String.Backtick */\n",
       "div.ae7413d85-3cf7-4d54-8418-c954a0933fd5 .sc { color: #BA2121 } /* Literal.String.Char */\n",
       "div.ae7413d85-3cf7-4d54-8418-c954a0933fd5 .dl { color: #BA2121 } /* Literal.String.Delimiter */\n",
       "div.ae7413d85-3cf7-4d54-8418-c954a0933fd5 .sd { color: #BA2121; font-style: italic } /* Literal.String.Doc */\n",
       "div.ae7413d85-3cf7-4d54-8418-c954a0933fd5 .s2 { color: #BA2121 } /* Literal.String.Double */\n",
       "div.ae7413d85-3cf7-4d54-8418-c954a0933fd5 .se { color: #BB6622; font-weight: bold } /* Literal.String.Escape */\n",
       "div.ae7413d85-3cf7-4d54-8418-c954a0933fd5 .sh { color: #BA2121 } /* Literal.String.Heredoc */\n",
       "div.ae7413d85-3cf7-4d54-8418-c954a0933fd5 .si { color: #BB6688; font-weight: bold } /* Literal.String.Interpol */\n",
       "div.ae7413d85-3cf7-4d54-8418-c954a0933fd5 .sx { color: #008000 } /* Literal.String.Other */\n",
       "div.ae7413d85-3cf7-4d54-8418-c954a0933fd5 .sr { color: #BB6688 } /* Literal.String.Regex */\n",
       "div.ae7413d85-3cf7-4d54-8418-c954a0933fd5 .s1 { color: #BA2121 } /* Literal.String.Single */\n",
       "div.ae7413d85-3cf7-4d54-8418-c954a0933fd5 .ss { color: #19177C } /* Literal.String.Symbol */\n",
       "div.ae7413d85-3cf7-4d54-8418-c954a0933fd5 .bp { color: #008000 } /* Name.Builtin.Pseudo */\n",
       "div.ae7413d85-3cf7-4d54-8418-c954a0933fd5 .fm { color: #0000FF } /* Name.Function.Magic */\n",
       "div.ae7413d85-3cf7-4d54-8418-c954a0933fd5 .vc { color: #19177C } /* Name.Variable.Class */\n",
       "div.ae7413d85-3cf7-4d54-8418-c954a0933fd5 .vg { color: #19177C } /* Name.Variable.Global */\n",
       "div.ae7413d85-3cf7-4d54-8418-c954a0933fd5 .vi { color: #19177C } /* Name.Variable.Instance */\n",
       "div.ae7413d85-3cf7-4d54-8418-c954a0933fd5 .vm { color: #19177C } /* Name.Variable.Magic */\n",
       "div.ae7413d85-3cf7-4d54-8418-c954a0933fd5 .il { color: #666666 } /* Literal.Number.Integer.Long */\n",
       "        </style>\n",
       "        <div class=\"highlight\"><pre><span></span><span class=\"nt\">&lt;alt-title</span> <span class=\"na\">alt-title-type=</span><span class=\"s\">&quot;running-head&quot;</span><span class=\"nt\">&gt;</span>Essay<span class=\"nt\">&lt;/alt-title&gt;</span>\n",
       "</pre></div>\n",
       "\n",
       "    </div>\n",
       "    "
      ],
      "text/plain": [
       "<display_xml.XML at 0x10b65f2b0>"
      ]
     },
     "execution_count": 101,
     "metadata": {},
     "output_type": "execute_result"
    }
   ],
   "source": [
    "XML(element)"
   ]
  },
  {
   "cell_type": "code",
   "execution_count": 102,
   "metadata": {},
   "outputs": [
    {
     "data": {
      "text/plain": [
       "{'alt-title-type': 'running-head'}"
      ]
     },
     "execution_count": 102,
     "metadata": {},
     "output_type": "execute_result"
    }
   ],
   "source": [
    "element.attrib"
   ]
  },
  {
   "cell_type": "code",
   "execution_count": 103,
   "metadata": {},
   "outputs": [
    {
     "data": {
      "text/plain": [
       "'running-head'"
      ]
     },
     "execution_count": 103,
     "metadata": {},
     "output_type": "execute_result"
    }
   ],
   "source": [
    "element.attrib['alt-title-type']"
   ]
  },
  {
   "cell_type": "code",
   "execution_count": 104,
   "metadata": {},
   "outputs": [
    {
     "data": {
      "text/plain": [
       "'running-head'"
      ]
     },
     "execution_count": 104,
     "metadata": {},
     "output_type": "execute_result"
    }
   ],
   "source": [
    "element.attrib.get('alt-title-type')"
   ]
  },
  {
   "cell_type": "markdown",
   "metadata": {},
   "source": [
    "## XML elements can have sub-elements"
   ]
  },
  {
   "cell_type": "code",
   "execution_count": 105,
   "metadata": {
    "hideCode": true,
    "hidePrompt": true
   },
   "outputs": [
    {
     "data": {
      "text/html": [
       "\n",
       "    <div class=a51ee9db1-16c4-4d4f-8abe-c3744d0b4ab9> \n",
       "        <style>\n",
       "            div.a51ee9db1-16c4-4d4f-8abe-c3744d0b4ab9 .hll { background-color: #ffffcc }\n",
       "div.a51ee9db1-16c4-4d4f-8abe-c3744d0b4ab9 .c { color: #408080; font-style: italic } /* Comment */\n",
       "div.a51ee9db1-16c4-4d4f-8abe-c3744d0b4ab9 .err { border: 1px solid #FF0000 } /* Error */\n",
       "div.a51ee9db1-16c4-4d4f-8abe-c3744d0b4ab9 .k { color: #008000; font-weight: bold } /* Keyword */\n",
       "div.a51ee9db1-16c4-4d4f-8abe-c3744d0b4ab9 .o { color: #666666 } /* Operator */\n",
       "div.a51ee9db1-16c4-4d4f-8abe-c3744d0b4ab9 .ch { color: #408080; font-style: italic } /* Comment.Hashbang */\n",
       "div.a51ee9db1-16c4-4d4f-8abe-c3744d0b4ab9 .cm { color: #408080; font-style: italic } /* Comment.Multiline */\n",
       "div.a51ee9db1-16c4-4d4f-8abe-c3744d0b4ab9 .cp { color: #BC7A00 } /* Comment.Preproc */\n",
       "div.a51ee9db1-16c4-4d4f-8abe-c3744d0b4ab9 .cpf { color: #408080; font-style: italic } /* Comment.PreprocFile */\n",
       "div.a51ee9db1-16c4-4d4f-8abe-c3744d0b4ab9 .c1 { color: #408080; font-style: italic } /* Comment.Single */\n",
       "div.a51ee9db1-16c4-4d4f-8abe-c3744d0b4ab9 .cs { color: #408080; font-style: italic } /* Comment.Special */\n",
       "div.a51ee9db1-16c4-4d4f-8abe-c3744d0b4ab9 .gd { color: #A00000 } /* Generic.Deleted */\n",
       "div.a51ee9db1-16c4-4d4f-8abe-c3744d0b4ab9 .ge { font-style: italic } /* Generic.Emph */\n",
       "div.a51ee9db1-16c4-4d4f-8abe-c3744d0b4ab9 .gr { color: #FF0000 } /* Generic.Error */\n",
       "div.a51ee9db1-16c4-4d4f-8abe-c3744d0b4ab9 .gh { color: #000080; font-weight: bold } /* Generic.Heading */\n",
       "div.a51ee9db1-16c4-4d4f-8abe-c3744d0b4ab9 .gi { color: #00A000 } /* Generic.Inserted */\n",
       "div.a51ee9db1-16c4-4d4f-8abe-c3744d0b4ab9 .go { color: #888888 } /* Generic.Output */\n",
       "div.a51ee9db1-16c4-4d4f-8abe-c3744d0b4ab9 .gp { color: #000080; font-weight: bold } /* Generic.Prompt */\n",
       "div.a51ee9db1-16c4-4d4f-8abe-c3744d0b4ab9 .gs { font-weight: bold } /* Generic.Strong */\n",
       "div.a51ee9db1-16c4-4d4f-8abe-c3744d0b4ab9 .gu { color: #800080; font-weight: bold } /* Generic.Subheading */\n",
       "div.a51ee9db1-16c4-4d4f-8abe-c3744d0b4ab9 .gt { color: #0044DD } /* Generic.Traceback */\n",
       "div.a51ee9db1-16c4-4d4f-8abe-c3744d0b4ab9 .kc { color: #008000; font-weight: bold } /* Keyword.Constant */\n",
       "div.a51ee9db1-16c4-4d4f-8abe-c3744d0b4ab9 .kd { color: #008000; font-weight: bold } /* Keyword.Declaration */\n",
       "div.a51ee9db1-16c4-4d4f-8abe-c3744d0b4ab9 .kn { color: #008000; font-weight: bold } /* Keyword.Namespace */\n",
       "div.a51ee9db1-16c4-4d4f-8abe-c3744d0b4ab9 .kp { color: #008000 } /* Keyword.Pseudo */\n",
       "div.a51ee9db1-16c4-4d4f-8abe-c3744d0b4ab9 .kr { color: #008000; font-weight: bold } /* Keyword.Reserved */\n",
       "div.a51ee9db1-16c4-4d4f-8abe-c3744d0b4ab9 .kt { color: #B00040 } /* Keyword.Type */\n",
       "div.a51ee9db1-16c4-4d4f-8abe-c3744d0b4ab9 .m { color: #666666 } /* Literal.Number */\n",
       "div.a51ee9db1-16c4-4d4f-8abe-c3744d0b4ab9 .s { color: #BA2121 } /* Literal.String */\n",
       "div.a51ee9db1-16c4-4d4f-8abe-c3744d0b4ab9 .na { color: #7D9029 } /* Name.Attribute */\n",
       "div.a51ee9db1-16c4-4d4f-8abe-c3744d0b4ab9 .nb { color: #008000 } /* Name.Builtin */\n",
       "div.a51ee9db1-16c4-4d4f-8abe-c3744d0b4ab9 .nc { color: #0000FF; font-weight: bold } /* Name.Class */\n",
       "div.a51ee9db1-16c4-4d4f-8abe-c3744d0b4ab9 .no { color: #880000 } /* Name.Constant */\n",
       "div.a51ee9db1-16c4-4d4f-8abe-c3744d0b4ab9 .nd { color: #AA22FF } /* Name.Decorator */\n",
       "div.a51ee9db1-16c4-4d4f-8abe-c3744d0b4ab9 .ni { color: #999999; font-weight: bold } /* Name.Entity */\n",
       "div.a51ee9db1-16c4-4d4f-8abe-c3744d0b4ab9 .ne { color: #D2413A; font-weight: bold } /* Name.Exception */\n",
       "div.a51ee9db1-16c4-4d4f-8abe-c3744d0b4ab9 .nf { color: #0000FF } /* Name.Function */\n",
       "div.a51ee9db1-16c4-4d4f-8abe-c3744d0b4ab9 .nl { color: #A0A000 } /* Name.Label */\n",
       "div.a51ee9db1-16c4-4d4f-8abe-c3744d0b4ab9 .nn { color: #0000FF; font-weight: bold } /* Name.Namespace */\n",
       "div.a51ee9db1-16c4-4d4f-8abe-c3744d0b4ab9 .nt { color: #008000; font-weight: bold } /* Name.Tag */\n",
       "div.a51ee9db1-16c4-4d4f-8abe-c3744d0b4ab9 .nv { color: #19177C } /* Name.Variable */\n",
       "div.a51ee9db1-16c4-4d4f-8abe-c3744d0b4ab9 .ow { color: #AA22FF; font-weight: bold } /* Operator.Word */\n",
       "div.a51ee9db1-16c4-4d4f-8abe-c3744d0b4ab9 .w { color: #bbbbbb } /* Text.Whitespace */\n",
       "div.a51ee9db1-16c4-4d4f-8abe-c3744d0b4ab9 .mb { color: #666666 } /* Literal.Number.Bin */\n",
       "div.a51ee9db1-16c4-4d4f-8abe-c3744d0b4ab9 .mf { color: #666666 } /* Literal.Number.Float */\n",
       "div.a51ee9db1-16c4-4d4f-8abe-c3744d0b4ab9 .mh { color: #666666 } /* Literal.Number.Hex */\n",
       "div.a51ee9db1-16c4-4d4f-8abe-c3744d0b4ab9 .mi { color: #666666 } /* Literal.Number.Integer */\n",
       "div.a51ee9db1-16c4-4d4f-8abe-c3744d0b4ab9 .mo { color: #666666 } /* Literal.Number.Oct */\n",
       "div.a51ee9db1-16c4-4d4f-8abe-c3744d0b4ab9 .sa { color: #BA2121 } /* Literal.String.Affix */\n",
       "div.a51ee9db1-16c4-4d4f-8abe-c3744d0b4ab9 .sb { color: #BA2121 } /* Literal.String.Backtick */\n",
       "div.a51ee9db1-16c4-4d4f-8abe-c3744d0b4ab9 .sc { color: #BA2121 } /* Literal.String.Char */\n",
       "div.a51ee9db1-16c4-4d4f-8abe-c3744d0b4ab9 .dl { color: #BA2121 } /* Literal.String.Delimiter */\n",
       "div.a51ee9db1-16c4-4d4f-8abe-c3744d0b4ab9 .sd { color: #BA2121; font-style: italic } /* Literal.String.Doc */\n",
       "div.a51ee9db1-16c4-4d4f-8abe-c3744d0b4ab9 .s2 { color: #BA2121 } /* Literal.String.Double */\n",
       "div.a51ee9db1-16c4-4d4f-8abe-c3744d0b4ab9 .se { color: #BB6622; font-weight: bold } /* Literal.String.Escape */\n",
       "div.a51ee9db1-16c4-4d4f-8abe-c3744d0b4ab9 .sh { color: #BA2121 } /* Literal.String.Heredoc */\n",
       "div.a51ee9db1-16c4-4d4f-8abe-c3744d0b4ab9 .si { color: #BB6688; font-weight: bold } /* Literal.String.Interpol */\n",
       "div.a51ee9db1-16c4-4d4f-8abe-c3744d0b4ab9 .sx { color: #008000 } /* Literal.String.Other */\n",
       "div.a51ee9db1-16c4-4d4f-8abe-c3744d0b4ab9 .sr { color: #BB6688 } /* Literal.String.Regex */\n",
       "div.a51ee9db1-16c4-4d4f-8abe-c3744d0b4ab9 .s1 { color: #BA2121 } /* Literal.String.Single */\n",
       "div.a51ee9db1-16c4-4d4f-8abe-c3744d0b4ab9 .ss { color: #19177C } /* Literal.String.Symbol */\n",
       "div.a51ee9db1-16c4-4d4f-8abe-c3744d0b4ab9 .bp { color: #008000 } /* Name.Builtin.Pseudo */\n",
       "div.a51ee9db1-16c4-4d4f-8abe-c3744d0b4ab9 .fm { color: #0000FF } /* Name.Function.Magic */\n",
       "div.a51ee9db1-16c4-4d4f-8abe-c3744d0b4ab9 .vc { color: #19177C } /* Name.Variable.Class */\n",
       "div.a51ee9db1-16c4-4d4f-8abe-c3744d0b4ab9 .vg { color: #19177C } /* Name.Variable.Global */\n",
       "div.a51ee9db1-16c4-4d4f-8abe-c3744d0b4ab9 .vi { color: #19177C } /* Name.Variable.Instance */\n",
       "div.a51ee9db1-16c4-4d4f-8abe-c3744d0b4ab9 .vm { color: #19177C } /* Name.Variable.Magic */\n",
       "div.a51ee9db1-16c4-4d4f-8abe-c3744d0b4ab9 .il { color: #666666 } /* Literal.Number.Integer.Long */\n",
       "        </style>\n",
       "        <div class=\"highlight\"><pre><span></span><span class=\"nt\">&lt;title-group&gt;</span>\n",
       "  <span class=\"nt\">&lt;article-title&gt;</span>Why Most Published Research Findings Are False<span class=\"nt\">&lt;/article-title&gt;</span>\n",
       "  <span class=\"nt\">&lt;alt-title</span> <span class=\"na\">alt-title-type=</span><span class=\"s\">&quot;running-head&quot;</span><span class=\"nt\">&gt;</span>Essay<span class=\"nt\">&lt;/alt-title&gt;</span>\n",
       "<span class=\"nt\">&lt;/title-group&gt;</span>\n",
       "</pre></div>\n",
       "\n",
       "    </div>\n",
       "    "
      ],
      "text/plain": [
       "<display_xml.XML at 0x10b65f7f0>"
      ]
     },
     "execution_count": 105,
     "metadata": {},
     "output_type": "execute_result"
    }
   ],
   "source": [
    "element = test_root\n",
    "XML(element)"
   ]
  },
  {
   "cell_type": "code",
   "execution_count": 106,
   "metadata": {
    "slideshow": {
     "slide_type": "fragment"
    }
   },
   "outputs": [
    {
     "data": {
      "text/plain": [
       "[<Element article-title at 0x10b6d6808>, <Element alt-title at 0x10b6cfe08>]"
      ]
     },
     "execution_count": 106,
     "metadata": {},
     "output_type": "execute_result"
    }
   ],
   "source": [
    "# to find direct descendants; don't need to know their tags\n",
    "element.getchildren()"
   ]
  },
  {
   "cell_type": "code",
   "execution_count": 107,
   "metadata": {},
   "outputs": [
    {
     "data": {
      "text/plain": [
       "'article-title'"
      ]
     },
     "execution_count": 107,
     "metadata": {},
     "output_type": "execute_result"
    }
   ],
   "source": [
    "new_element = element.getchildren()[0]\n",
    "new_element.tag"
   ]
  },
  {
   "cell_type": "code",
   "execution_count": 108,
   "metadata": {},
   "outputs": [
    {
     "data": {
      "text/plain": [
       "<Element title-group at 0x10b69a948>"
      ]
     },
     "execution_count": 108,
     "metadata": {},
     "output_type": "execute_result"
    }
   ],
   "source": [
    "# to find direct ancestor; don't need to know its tag\n",
    "new_element.getparent()"
   ]
  },
  {
   "cell_type": "markdown",
   "metadata": {},
   "source": [
    "## Finding sub-elements by name with xpath\n",
    "### Example element: Creative Commons License"
   ]
  },
  {
   "cell_type": "code",
   "execution_count": 110,
   "metadata": {},
   "outputs": [
    {
     "data": {
      "text/html": [
       "\n",
       "    <div class=a7bfd614a-e592-45d4-954e-1e8ca9dc47c1> \n",
       "        <style>\n",
       "            div.a7bfd614a-e592-45d4-954e-1e8ca9dc47c1 .hll { background-color: #ffffcc }\n",
       "div.a7bfd614a-e592-45d4-954e-1e8ca9dc47c1 .c { color: #228B22 } /* Comment */\n",
       "div.a7bfd614a-e592-45d4-954e-1e8ca9dc47c1 .err { color: #a61717; background-color: #e3d2d2 } /* Error */\n",
       "div.a7bfd614a-e592-45d4-954e-1e8ca9dc47c1 .k { color: #8B008B; font-weight: bold } /* Keyword */\n",
       "div.a7bfd614a-e592-45d4-954e-1e8ca9dc47c1 .ch { color: #228B22 } /* Comment.Hashbang */\n",
       "div.a7bfd614a-e592-45d4-954e-1e8ca9dc47c1 .cm { color: #228B22 } /* Comment.Multiline */\n",
       "div.a7bfd614a-e592-45d4-954e-1e8ca9dc47c1 .cp { color: #1e889b } /* Comment.Preproc */\n",
       "div.a7bfd614a-e592-45d4-954e-1e8ca9dc47c1 .cpf { color: #228B22 } /* Comment.PreprocFile */\n",
       "div.a7bfd614a-e592-45d4-954e-1e8ca9dc47c1 .c1 { color: #228B22 } /* Comment.Single */\n",
       "div.a7bfd614a-e592-45d4-954e-1e8ca9dc47c1 .cs { color: #8B008B; font-weight: bold } /* Comment.Special */\n",
       "div.a7bfd614a-e592-45d4-954e-1e8ca9dc47c1 .gd { color: #aa0000 } /* Generic.Deleted */\n",
       "div.a7bfd614a-e592-45d4-954e-1e8ca9dc47c1 .ge { font-style: italic } /* Generic.Emph */\n",
       "div.a7bfd614a-e592-45d4-954e-1e8ca9dc47c1 .gr { color: #aa0000 } /* Generic.Error */\n",
       "div.a7bfd614a-e592-45d4-954e-1e8ca9dc47c1 .gh { color: #000080; font-weight: bold } /* Generic.Heading */\n",
       "div.a7bfd614a-e592-45d4-954e-1e8ca9dc47c1 .gi { color: #00aa00 } /* Generic.Inserted */\n",
       "div.a7bfd614a-e592-45d4-954e-1e8ca9dc47c1 .go { color: #888888 } /* Generic.Output */\n",
       "div.a7bfd614a-e592-45d4-954e-1e8ca9dc47c1 .gp { color: #555555 } /* Generic.Prompt */\n",
       "div.a7bfd614a-e592-45d4-954e-1e8ca9dc47c1 .gs { font-weight: bold } /* Generic.Strong */\n",
       "div.a7bfd614a-e592-45d4-954e-1e8ca9dc47c1 .gu { color: #800080; font-weight: bold } /* Generic.Subheading */\n",
       "div.a7bfd614a-e592-45d4-954e-1e8ca9dc47c1 .gt { color: #aa0000 } /* Generic.Traceback */\n",
       "div.a7bfd614a-e592-45d4-954e-1e8ca9dc47c1 .kc { color: #8B008B; font-weight: bold } /* Keyword.Constant */\n",
       "div.a7bfd614a-e592-45d4-954e-1e8ca9dc47c1 .kd { color: #8B008B; font-weight: bold } /* Keyword.Declaration */\n",
       "div.a7bfd614a-e592-45d4-954e-1e8ca9dc47c1 .kn { color: #8B008B; font-weight: bold } /* Keyword.Namespace */\n",
       "div.a7bfd614a-e592-45d4-954e-1e8ca9dc47c1 .kp { color: #8B008B; font-weight: bold } /* Keyword.Pseudo */\n",
       "div.a7bfd614a-e592-45d4-954e-1e8ca9dc47c1 .kr { color: #8B008B; font-weight: bold } /* Keyword.Reserved */\n",
       "div.a7bfd614a-e592-45d4-954e-1e8ca9dc47c1 .kt { color: #00688B; font-weight: bold } /* Keyword.Type */\n",
       "div.a7bfd614a-e592-45d4-954e-1e8ca9dc47c1 .m { color: #B452CD } /* Literal.Number */\n",
       "div.a7bfd614a-e592-45d4-954e-1e8ca9dc47c1 .s { color: #CD5555 } /* Literal.String */\n",
       "div.a7bfd614a-e592-45d4-954e-1e8ca9dc47c1 .na { color: #658b00 } /* Name.Attribute */\n",
       "div.a7bfd614a-e592-45d4-954e-1e8ca9dc47c1 .nb { color: #658b00 } /* Name.Builtin */\n",
       "div.a7bfd614a-e592-45d4-954e-1e8ca9dc47c1 .nc { color: #008b45; font-weight: bold } /* Name.Class */\n",
       "div.a7bfd614a-e592-45d4-954e-1e8ca9dc47c1 .no { color: #00688B } /* Name.Constant */\n",
       "div.a7bfd614a-e592-45d4-954e-1e8ca9dc47c1 .nd { color: #707a7c } /* Name.Decorator */\n",
       "div.a7bfd614a-e592-45d4-954e-1e8ca9dc47c1 .ne { color: #008b45; font-weight: bold } /* Name.Exception */\n",
       "div.a7bfd614a-e592-45d4-954e-1e8ca9dc47c1 .nf { color: #008b45 } /* Name.Function */\n",
       "div.a7bfd614a-e592-45d4-954e-1e8ca9dc47c1 .nn { color: #008b45; text-decoration: underline } /* Name.Namespace */\n",
       "div.a7bfd614a-e592-45d4-954e-1e8ca9dc47c1 .nt { color: #8B008B; font-weight: bold } /* Name.Tag */\n",
       "div.a7bfd614a-e592-45d4-954e-1e8ca9dc47c1 .nv { color: #00688B } /* Name.Variable */\n",
       "div.a7bfd614a-e592-45d4-954e-1e8ca9dc47c1 .ow { color: #8B008B } /* Operator.Word */\n",
       "div.a7bfd614a-e592-45d4-954e-1e8ca9dc47c1 .w { color: #bbbbbb } /* Text.Whitespace */\n",
       "div.a7bfd614a-e592-45d4-954e-1e8ca9dc47c1 .mb { color: #B452CD } /* Literal.Number.Bin */\n",
       "div.a7bfd614a-e592-45d4-954e-1e8ca9dc47c1 .mf { color: #B452CD } /* Literal.Number.Float */\n",
       "div.a7bfd614a-e592-45d4-954e-1e8ca9dc47c1 .mh { color: #B452CD } /* Literal.Number.Hex */\n",
       "div.a7bfd614a-e592-45d4-954e-1e8ca9dc47c1 .mi { color: #B452CD } /* Literal.Number.Integer */\n",
       "div.a7bfd614a-e592-45d4-954e-1e8ca9dc47c1 .mo { color: #B452CD } /* Literal.Number.Oct */\n",
       "div.a7bfd614a-e592-45d4-954e-1e8ca9dc47c1 .sa { color: #CD5555 } /* Literal.String.Affix */\n",
       "div.a7bfd614a-e592-45d4-954e-1e8ca9dc47c1 .sb { color: #CD5555 } /* Literal.String.Backtick */\n",
       "div.a7bfd614a-e592-45d4-954e-1e8ca9dc47c1 .sc { color: #CD5555 } /* Literal.String.Char */\n",
       "div.a7bfd614a-e592-45d4-954e-1e8ca9dc47c1 .dl { color: #CD5555 } /* Literal.String.Delimiter */\n",
       "div.a7bfd614a-e592-45d4-954e-1e8ca9dc47c1 .sd { color: #CD5555 } /* Literal.String.Doc */\n",
       "div.a7bfd614a-e592-45d4-954e-1e8ca9dc47c1 .s2 { color: #CD5555 } /* Literal.String.Double */\n",
       "div.a7bfd614a-e592-45d4-954e-1e8ca9dc47c1 .se { color: #CD5555 } /* Literal.String.Escape */\n",
       "div.a7bfd614a-e592-45d4-954e-1e8ca9dc47c1 .sh { color: #1c7e71; font-style: italic } /* Literal.String.Heredoc */\n",
       "div.a7bfd614a-e592-45d4-954e-1e8ca9dc47c1 .si { color: #CD5555 } /* Literal.String.Interpol */\n",
       "div.a7bfd614a-e592-45d4-954e-1e8ca9dc47c1 .sx { color: #cb6c20 } /* Literal.String.Other */\n",
       "div.a7bfd614a-e592-45d4-954e-1e8ca9dc47c1 .sr { color: #1c7e71 } /* Literal.String.Regex */\n",
       "div.a7bfd614a-e592-45d4-954e-1e8ca9dc47c1 .s1 { color: #CD5555 } /* Literal.String.Single */\n",
       "div.a7bfd614a-e592-45d4-954e-1e8ca9dc47c1 .ss { color: #CD5555 } /* Literal.String.Symbol */\n",
       "div.a7bfd614a-e592-45d4-954e-1e8ca9dc47c1 .bp { color: #658b00 } /* Name.Builtin.Pseudo */\n",
       "div.a7bfd614a-e592-45d4-954e-1e8ca9dc47c1 .fm { color: #008b45 } /* Name.Function.Magic */\n",
       "div.a7bfd614a-e592-45d4-954e-1e8ca9dc47c1 .vc { color: #00688B } /* Name.Variable.Class */\n",
       "div.a7bfd614a-e592-45d4-954e-1e8ca9dc47c1 .vg { color: #00688B } /* Name.Variable.Global */\n",
       "div.a7bfd614a-e592-45d4-954e-1e8ca9dc47c1 .vi { color: #00688B } /* Name.Variable.Instance */\n",
       "div.a7bfd614a-e592-45d4-954e-1e8ca9dc47c1 .vm { color: #00688B } /* Name.Variable.Magic */\n",
       "div.a7bfd614a-e592-45d4-954e-1e8ca9dc47c1 .il { color: #B452CD } /* Literal.Number.Integer.Long */\n",
       "        </style>\n",
       "        <div class=\"highlight\"><pre><span></span><span class=\"nt\">&lt;license</span> <span class=\"na\">xmlns:xlink=</span><span class=\"s\">&quot;http://www.w3.org/1999/xlink&quot;</span> <span class=\"na\">xmlns:mml=</span><span class=\"s\">&quot;http://www.w3.org/1998/Math/MathML&quot;</span> <span class=\"na\">xlink:href=</span><span class=\"s\">&quot;http://creativecommons.org/licenses/by/4.0/&quot;</span> <span class=\"na\">xlink:type=</span><span class=\"s\">&quot;simple&quot;</span><span class=\"nt\">&gt;</span>\n",
       "  <span class=\"nt\">&lt;license-p&gt;</span>This is an open access article distributed under the terms of the <span class=\"nt\">&lt;ext-link</span> <span class=\"na\">ext-link-type=</span><span class=\"s\">&quot;uri&quot;</span> <span class=\"na\">xlink:href=</span><span class=\"s\">&quot;http://creativecommons.org/licenses/by/4.0/&quot;</span> <span class=\"na\">xlink:type=</span><span class=\"s\">&quot;simple&quot;</span><span class=\"nt\">&gt;</span>Creative Commons Attribution License<span class=\"nt\">&lt;/ext-link&gt;</span>, which permits unrestricted use, distribution, and reproduction in any medium, provided the original author and source are credited.<span class=\"nt\">&lt;/license-p&gt;</span>\n",
       "<span class=\"nt\">&lt;/license&gt;</span>\n",
       "</pre></div>\n",
       "\n",
       "    </div>\n",
       "    "
      ],
      "text/plain": [
       "<display_xml.XML at 0x10aa45b70>"
      ]
     },
     "metadata": {},
     "output_type": "display_data"
    }
   ],
   "source": [
    "parser = et.XMLParser(remove_blank_text=True)\n",
    "test_file = 'element_2.xml'\n",
    "test_tree = et.parse(test_file, parser)\n",
    "license = test_tree.xpath('.//license')[0]\n",
    "display(XML(license, style='perldoc'))"
   ]
  },
  {
   "cell_type": "markdown",
   "metadata": {},
   "source": [
    "#### Xpath returns a list of search results"
   ]
  },
  {
   "cell_type": "code",
   "execution_count": 75,
   "metadata": {},
   "outputs": [
    {
     "data": {
      "text/plain": [
       "[<Element license-p at 0x10b69ad08>]"
      ]
     },
     "execution_count": 75,
     "metadata": {},
     "output_type": "execute_result"
    }
   ],
   "source": [
    "# search direct descendants by name\n",
    "license.xpath('./license-p')"
   ]
  },
  {
   "cell_type": "code",
   "execution_count": 89,
   "metadata": {},
   "outputs": [
    {
     "data": {
      "text/plain": [
       "[<Element ext-link at 0x10b6980c8>]"
      ]
     },
     "execution_count": 89,
     "metadata": {},
     "output_type": "execute_result"
    }
   ],
   "source": [
    "# search descendants of direct descendants\n",
    "license.xpath('./license-p/ext-link')"
   ]
  },
  {
   "cell_type": "code",
   "execution_count": 90,
   "metadata": {},
   "outputs": [
    {
     "data": {
      "text/plain": [
       "[<Element ext-link at 0x10b6980c8>]"
      ]
     },
     "execution_count": 90,
     "metadata": {},
     "output_type": "execute_result"
    }
   ],
   "source": [
    "# search ALL descendants\n",
    "license.xpath('.//ext-link')"
   ]
  },
  {
   "cell_type": "markdown",
   "metadata": {},
   "source": [
    "## Warning 1: Multiple elements can have the same xpath location\n",
    "### Remember that it always returns a list"
   ]
  },
  {
   "cell_type": "code",
   "execution_count": 116,
   "metadata": {
    "hideCode": true,
    "hidePrompt": true
   },
   "outputs": [
    {
     "data": {
      "text/html": [
       "\n",
       "    <div class=ad33c12b3-d86e-4767-876e-3b98acdd6095> \n",
       "        <style>\n",
       "            div.ad33c12b3-d86e-4767-876e-3b98acdd6095 .hll { background-color: #ffffcc }\n",
       "div.ad33c12b3-d86e-4767-876e-3b98acdd6095 .c { color: #408080; font-style: italic } /* Comment */\n",
       "div.ad33c12b3-d86e-4767-876e-3b98acdd6095 .err { border: 1px solid #FF0000 } /* Error */\n",
       "div.ad33c12b3-d86e-4767-876e-3b98acdd6095 .k { color: #008000; font-weight: bold } /* Keyword */\n",
       "div.ad33c12b3-d86e-4767-876e-3b98acdd6095 .o { color: #666666 } /* Operator */\n",
       "div.ad33c12b3-d86e-4767-876e-3b98acdd6095 .ch { color: #408080; font-style: italic } /* Comment.Hashbang */\n",
       "div.ad33c12b3-d86e-4767-876e-3b98acdd6095 .cm { color: #408080; font-style: italic } /* Comment.Multiline */\n",
       "div.ad33c12b3-d86e-4767-876e-3b98acdd6095 .cp { color: #BC7A00 } /* Comment.Preproc */\n",
       "div.ad33c12b3-d86e-4767-876e-3b98acdd6095 .cpf { color: #408080; font-style: italic } /* Comment.PreprocFile */\n",
       "div.ad33c12b3-d86e-4767-876e-3b98acdd6095 .c1 { color: #408080; font-style: italic } /* Comment.Single */\n",
       "div.ad33c12b3-d86e-4767-876e-3b98acdd6095 .cs { color: #408080; font-style: italic } /* Comment.Special */\n",
       "div.ad33c12b3-d86e-4767-876e-3b98acdd6095 .gd { color: #A00000 } /* Generic.Deleted */\n",
       "div.ad33c12b3-d86e-4767-876e-3b98acdd6095 .ge { font-style: italic } /* Generic.Emph */\n",
       "div.ad33c12b3-d86e-4767-876e-3b98acdd6095 .gr { color: #FF0000 } /* Generic.Error */\n",
       "div.ad33c12b3-d86e-4767-876e-3b98acdd6095 .gh { color: #000080; font-weight: bold } /* Generic.Heading */\n",
       "div.ad33c12b3-d86e-4767-876e-3b98acdd6095 .gi { color: #00A000 } /* Generic.Inserted */\n",
       "div.ad33c12b3-d86e-4767-876e-3b98acdd6095 .go { color: #888888 } /* Generic.Output */\n",
       "div.ad33c12b3-d86e-4767-876e-3b98acdd6095 .gp { color: #000080; font-weight: bold } /* Generic.Prompt */\n",
       "div.ad33c12b3-d86e-4767-876e-3b98acdd6095 .gs { font-weight: bold } /* Generic.Strong */\n",
       "div.ad33c12b3-d86e-4767-876e-3b98acdd6095 .gu { color: #800080; font-weight: bold } /* Generic.Subheading */\n",
       "div.ad33c12b3-d86e-4767-876e-3b98acdd6095 .gt { color: #0044DD } /* Generic.Traceback */\n",
       "div.ad33c12b3-d86e-4767-876e-3b98acdd6095 .kc { color: #008000; font-weight: bold } /* Keyword.Constant */\n",
       "div.ad33c12b3-d86e-4767-876e-3b98acdd6095 .kd { color: #008000; font-weight: bold } /* Keyword.Declaration */\n",
       "div.ad33c12b3-d86e-4767-876e-3b98acdd6095 .kn { color: #008000; font-weight: bold } /* Keyword.Namespace */\n",
       "div.ad33c12b3-d86e-4767-876e-3b98acdd6095 .kp { color: #008000 } /* Keyword.Pseudo */\n",
       "div.ad33c12b3-d86e-4767-876e-3b98acdd6095 .kr { color: #008000; font-weight: bold } /* Keyword.Reserved */\n",
       "div.ad33c12b3-d86e-4767-876e-3b98acdd6095 .kt { color: #B00040 } /* Keyword.Type */\n",
       "div.ad33c12b3-d86e-4767-876e-3b98acdd6095 .m { color: #666666 } /* Literal.Number */\n",
       "div.ad33c12b3-d86e-4767-876e-3b98acdd6095 .s { color: #BA2121 } /* Literal.String */\n",
       "div.ad33c12b3-d86e-4767-876e-3b98acdd6095 .na { color: #7D9029 } /* Name.Attribute */\n",
       "div.ad33c12b3-d86e-4767-876e-3b98acdd6095 .nb { color: #008000 } /* Name.Builtin */\n",
       "div.ad33c12b3-d86e-4767-876e-3b98acdd6095 .nc { color: #0000FF; font-weight: bold } /* Name.Class */\n",
       "div.ad33c12b3-d86e-4767-876e-3b98acdd6095 .no { color: #880000 } /* Name.Constant */\n",
       "div.ad33c12b3-d86e-4767-876e-3b98acdd6095 .nd { color: #AA22FF } /* Name.Decorator */\n",
       "div.ad33c12b3-d86e-4767-876e-3b98acdd6095 .ni { color: #999999; font-weight: bold } /* Name.Entity */\n",
       "div.ad33c12b3-d86e-4767-876e-3b98acdd6095 .ne { color: #D2413A; font-weight: bold } /* Name.Exception */\n",
       "div.ad33c12b3-d86e-4767-876e-3b98acdd6095 .nf { color: #0000FF } /* Name.Function */\n",
       "div.ad33c12b3-d86e-4767-876e-3b98acdd6095 .nl { color: #A0A000 } /* Name.Label */\n",
       "div.ad33c12b3-d86e-4767-876e-3b98acdd6095 .nn { color: #0000FF; font-weight: bold } /* Name.Namespace */\n",
       "div.ad33c12b3-d86e-4767-876e-3b98acdd6095 .nt { color: #008000; font-weight: bold } /* Name.Tag */\n",
       "div.ad33c12b3-d86e-4767-876e-3b98acdd6095 .nv { color: #19177C } /* Name.Variable */\n",
       "div.ad33c12b3-d86e-4767-876e-3b98acdd6095 .ow { color: #AA22FF; font-weight: bold } /* Operator.Word */\n",
       "div.ad33c12b3-d86e-4767-876e-3b98acdd6095 .w { color: #bbbbbb } /* Text.Whitespace */\n",
       "div.ad33c12b3-d86e-4767-876e-3b98acdd6095 .mb { color: #666666 } /* Literal.Number.Bin */\n",
       "div.ad33c12b3-d86e-4767-876e-3b98acdd6095 .mf { color: #666666 } /* Literal.Number.Float */\n",
       "div.ad33c12b3-d86e-4767-876e-3b98acdd6095 .mh { color: #666666 } /* Literal.Number.Hex */\n",
       "div.ad33c12b3-d86e-4767-876e-3b98acdd6095 .mi { color: #666666 } /* Literal.Number.Integer */\n",
       "div.ad33c12b3-d86e-4767-876e-3b98acdd6095 .mo { color: #666666 } /* Literal.Number.Oct */\n",
       "div.ad33c12b3-d86e-4767-876e-3b98acdd6095 .sa { color: #BA2121 } /* Literal.String.Affix */\n",
       "div.ad33c12b3-d86e-4767-876e-3b98acdd6095 .sb { color: #BA2121 } /* Literal.String.Backtick */\n",
       "div.ad33c12b3-d86e-4767-876e-3b98acdd6095 .sc { color: #BA2121 } /* Literal.String.Char */\n",
       "div.ad33c12b3-d86e-4767-876e-3b98acdd6095 .dl { color: #BA2121 } /* Literal.String.Delimiter */\n",
       "div.ad33c12b3-d86e-4767-876e-3b98acdd6095 .sd { color: #BA2121; font-style: italic } /* Literal.String.Doc */\n",
       "div.ad33c12b3-d86e-4767-876e-3b98acdd6095 .s2 { color: #BA2121 } /* Literal.String.Double */\n",
       "div.ad33c12b3-d86e-4767-876e-3b98acdd6095 .se { color: #BB6622; font-weight: bold } /* Literal.String.Escape */\n",
       "div.ad33c12b3-d86e-4767-876e-3b98acdd6095 .sh { color: #BA2121 } /* Literal.String.Heredoc */\n",
       "div.ad33c12b3-d86e-4767-876e-3b98acdd6095 .si { color: #BB6688; font-weight: bold } /* Literal.String.Interpol */\n",
       "div.ad33c12b3-d86e-4767-876e-3b98acdd6095 .sx { color: #008000 } /* Literal.String.Other */\n",
       "div.ad33c12b3-d86e-4767-876e-3b98acdd6095 .sr { color: #BB6688 } /* Literal.String.Regex */\n",
       "div.ad33c12b3-d86e-4767-876e-3b98acdd6095 .s1 { color: #BA2121 } /* Literal.String.Single */\n",
       "div.ad33c12b3-d86e-4767-876e-3b98acdd6095 .ss { color: #19177C } /* Literal.String.Symbol */\n",
       "div.ad33c12b3-d86e-4767-876e-3b98acdd6095 .bp { color: #008000 } /* Name.Builtin.Pseudo */\n",
       "div.ad33c12b3-d86e-4767-876e-3b98acdd6095 .fm { color: #0000FF } /* Name.Function.Magic */\n",
       "div.ad33c12b3-d86e-4767-876e-3b98acdd6095 .vc { color: #19177C } /* Name.Variable.Class */\n",
       "div.ad33c12b3-d86e-4767-876e-3b98acdd6095 .vg { color: #19177C } /* Name.Variable.Global */\n",
       "div.ad33c12b3-d86e-4767-876e-3b98acdd6095 .vi { color: #19177C } /* Name.Variable.Instance */\n",
       "div.ad33c12b3-d86e-4767-876e-3b98acdd6095 .vm { color: #19177C } /* Name.Variable.Magic */\n",
       "div.ad33c12b3-d86e-4767-876e-3b98acdd6095 .il { color: #666666 } /* Literal.Number.Integer.Long */\n",
       "        </style>\n",
       "        <div class=\"highlight\"><pre><span></span><span class=\"nt\">&lt;contrib-group&gt;</span>\n",
       "  <span class=\"nt\">&lt;contrib</span> <span class=\"na\">contrib-type=</span><span class=\"s\">&quot;author&quot;</span><span class=\"nt\">&gt;</span>\n",
       "    <span class=\"nt\">&lt;name</span> <span class=\"na\">name-style=</span><span class=\"s\">&quot;western&quot;</span><span class=\"nt\">&gt;</span>\n",
       "      <span class=\"nt\">&lt;surname&gt;</span>dos Santos<span class=\"nt\">&lt;/surname&gt;</span>\n",
       "      <span class=\"nt\">&lt;given-names&gt;</span>Renato Vieira<span class=\"nt\">&lt;/given-names&gt;</span>\n",
       "    <span class=\"nt\">&lt;/name&gt;</span>\n",
       "  <span class=\"nt\">&lt;/contrib&gt;</span>\n",
       "  <span class=\"nt\">&lt;contrib</span> <span class=\"na\">contrib-type=</span><span class=\"s\">&quot;author&quot;</span><span class=\"nt\">&gt;</span>\n",
       "    <span class=\"nt\">&lt;name</span> <span class=\"na\">name-style=</span><span class=\"s\">&quot;western&quot;</span><span class=\"nt\">&gt;</span>\n",
       "      <span class=\"nt\">&lt;surname&gt;</span>da Silva<span class=\"nt\">&lt;/surname&gt;</span>\n",
       "      <span class=\"nt\">&lt;given-names&gt;</span>Linaena Mericy<span class=\"nt\">&lt;/given-names&gt;</span>\n",
       "    <span class=\"nt\">&lt;/name&gt;</span>\n",
       "  <span class=\"nt\">&lt;/contrib&gt;</span>\n",
       "<span class=\"nt\">&lt;/contrib-group&gt;</span>\n",
       "</pre></div>\n",
       "\n",
       "    </div>\n",
       "    "
      ],
      "text/plain": [
       "<display_xml.XML at 0x10b65f6d8>"
      ]
     },
     "execution_count": 116,
     "metadata": {},
     "output_type": "execute_result"
    }
   ],
   "source": [
    "text_to_display4 = \"\"\"<contrib-group>\n",
    "<contrib contrib-type=\"author\"><name name-style=\"western\"><surname>dos Santos</surname><given-names>Renato Vieira</given-names></name></contrib>\n",
    "<contrib contrib-type=\"author\"><name name-style=\"western\"><surname>da Silva</surname><given-names>Linaena Mericy</given-names></name></contrib>\n",
    "</contrib-group>\"\"\"\n",
    "element = et.fromstring(text_to_display4)\n",
    "XML(text_to_display4)"
   ]
  },
  {
   "cell_type": "code",
   "execution_count": 117,
   "metadata": {},
   "outputs": [
    {
     "data": {
      "text/plain": [
       "[<Element contrib at 0x10b6d9648>, <Element contrib at 0x10b6cc988>]"
      ]
     },
     "execution_count": 117,
     "metadata": {},
     "output_type": "execute_result"
    }
   ],
   "source": [
    "element.xpath('./contrib')"
   ]
  },
  {
   "cell_type": "markdown",
   "metadata": {},
   "source": [
    "## Warning 2: element.text doesn't always work\n",
    "### When in doubt, use `lxml.etree.tostring()`"
   ]
  },
  {
   "cell_type": "code",
   "execution_count": 111,
   "metadata": {},
   "outputs": [
    {
     "data": {
      "text/html": [
       "\n",
       "    <div class=a9295a4b4-766c-4508-84a4-8efc28cbb792> \n",
       "        <style>\n",
       "            div.a9295a4b4-766c-4508-84a4-8efc28cbb792 .hll { background-color: #ffffcc }\n",
       "div.a9295a4b4-766c-4508-84a4-8efc28cbb792 .c { color: #228B22 } /* Comment */\n",
       "div.a9295a4b4-766c-4508-84a4-8efc28cbb792 .err { color: #a61717; background-color: #e3d2d2 } /* Error */\n",
       "div.a9295a4b4-766c-4508-84a4-8efc28cbb792 .k { color: #8B008B; font-weight: bold } /* Keyword */\n",
       "div.a9295a4b4-766c-4508-84a4-8efc28cbb792 .ch { color: #228B22 } /* Comment.Hashbang */\n",
       "div.a9295a4b4-766c-4508-84a4-8efc28cbb792 .cm { color: #228B22 } /* Comment.Multiline */\n",
       "div.a9295a4b4-766c-4508-84a4-8efc28cbb792 .cp { color: #1e889b } /* Comment.Preproc */\n",
       "div.a9295a4b4-766c-4508-84a4-8efc28cbb792 .cpf { color: #228B22 } /* Comment.PreprocFile */\n",
       "div.a9295a4b4-766c-4508-84a4-8efc28cbb792 .c1 { color: #228B22 } /* Comment.Single */\n",
       "div.a9295a4b4-766c-4508-84a4-8efc28cbb792 .cs { color: #8B008B; font-weight: bold } /* Comment.Special */\n",
       "div.a9295a4b4-766c-4508-84a4-8efc28cbb792 .gd { color: #aa0000 } /* Generic.Deleted */\n",
       "div.a9295a4b4-766c-4508-84a4-8efc28cbb792 .ge { font-style: italic } /* Generic.Emph */\n",
       "div.a9295a4b4-766c-4508-84a4-8efc28cbb792 .gr { color: #aa0000 } /* Generic.Error */\n",
       "div.a9295a4b4-766c-4508-84a4-8efc28cbb792 .gh { color: #000080; font-weight: bold } /* Generic.Heading */\n",
       "div.a9295a4b4-766c-4508-84a4-8efc28cbb792 .gi { color: #00aa00 } /* Generic.Inserted */\n",
       "div.a9295a4b4-766c-4508-84a4-8efc28cbb792 .go { color: #888888 } /* Generic.Output */\n",
       "div.a9295a4b4-766c-4508-84a4-8efc28cbb792 .gp { color: #555555 } /* Generic.Prompt */\n",
       "div.a9295a4b4-766c-4508-84a4-8efc28cbb792 .gs { font-weight: bold } /* Generic.Strong */\n",
       "div.a9295a4b4-766c-4508-84a4-8efc28cbb792 .gu { color: #800080; font-weight: bold } /* Generic.Subheading */\n",
       "div.a9295a4b4-766c-4508-84a4-8efc28cbb792 .gt { color: #aa0000 } /* Generic.Traceback */\n",
       "div.a9295a4b4-766c-4508-84a4-8efc28cbb792 .kc { color: #8B008B; font-weight: bold } /* Keyword.Constant */\n",
       "div.a9295a4b4-766c-4508-84a4-8efc28cbb792 .kd { color: #8B008B; font-weight: bold } /* Keyword.Declaration */\n",
       "div.a9295a4b4-766c-4508-84a4-8efc28cbb792 .kn { color: #8B008B; font-weight: bold } /* Keyword.Namespace */\n",
       "div.a9295a4b4-766c-4508-84a4-8efc28cbb792 .kp { color: #8B008B; font-weight: bold } /* Keyword.Pseudo */\n",
       "div.a9295a4b4-766c-4508-84a4-8efc28cbb792 .kr { color: #8B008B; font-weight: bold } /* Keyword.Reserved */\n",
       "div.a9295a4b4-766c-4508-84a4-8efc28cbb792 .kt { color: #00688B; font-weight: bold } /* Keyword.Type */\n",
       "div.a9295a4b4-766c-4508-84a4-8efc28cbb792 .m { color: #B452CD } /* Literal.Number */\n",
       "div.a9295a4b4-766c-4508-84a4-8efc28cbb792 .s { color: #CD5555 } /* Literal.String */\n",
       "div.a9295a4b4-766c-4508-84a4-8efc28cbb792 .na { color: #658b00 } /* Name.Attribute */\n",
       "div.a9295a4b4-766c-4508-84a4-8efc28cbb792 .nb { color: #658b00 } /* Name.Builtin */\n",
       "div.a9295a4b4-766c-4508-84a4-8efc28cbb792 .nc { color: #008b45; font-weight: bold } /* Name.Class */\n",
       "div.a9295a4b4-766c-4508-84a4-8efc28cbb792 .no { color: #00688B } /* Name.Constant */\n",
       "div.a9295a4b4-766c-4508-84a4-8efc28cbb792 .nd { color: #707a7c } /* Name.Decorator */\n",
       "div.a9295a4b4-766c-4508-84a4-8efc28cbb792 .ne { color: #008b45; font-weight: bold } /* Name.Exception */\n",
       "div.a9295a4b4-766c-4508-84a4-8efc28cbb792 .nf { color: #008b45 } /* Name.Function */\n",
       "div.a9295a4b4-766c-4508-84a4-8efc28cbb792 .nn { color: #008b45; text-decoration: underline } /* Name.Namespace */\n",
       "div.a9295a4b4-766c-4508-84a4-8efc28cbb792 .nt { color: #8B008B; font-weight: bold } /* Name.Tag */\n",
       "div.a9295a4b4-766c-4508-84a4-8efc28cbb792 .nv { color: #00688B } /* Name.Variable */\n",
       "div.a9295a4b4-766c-4508-84a4-8efc28cbb792 .ow { color: #8B008B } /* Operator.Word */\n",
       "div.a9295a4b4-766c-4508-84a4-8efc28cbb792 .w { color: #bbbbbb } /* Text.Whitespace */\n",
       "div.a9295a4b4-766c-4508-84a4-8efc28cbb792 .mb { color: #B452CD } /* Literal.Number.Bin */\n",
       "div.a9295a4b4-766c-4508-84a4-8efc28cbb792 .mf { color: #B452CD } /* Literal.Number.Float */\n",
       "div.a9295a4b4-766c-4508-84a4-8efc28cbb792 .mh { color: #B452CD } /* Literal.Number.Hex */\n",
       "div.a9295a4b4-766c-4508-84a4-8efc28cbb792 .mi { color: #B452CD } /* Literal.Number.Integer */\n",
       "div.a9295a4b4-766c-4508-84a4-8efc28cbb792 .mo { color: #B452CD } /* Literal.Number.Oct */\n",
       "div.a9295a4b4-766c-4508-84a4-8efc28cbb792 .sa { color: #CD5555 } /* Literal.String.Affix */\n",
       "div.a9295a4b4-766c-4508-84a4-8efc28cbb792 .sb { color: #CD5555 } /* Literal.String.Backtick */\n",
       "div.a9295a4b4-766c-4508-84a4-8efc28cbb792 .sc { color: #CD5555 } /* Literal.String.Char */\n",
       "div.a9295a4b4-766c-4508-84a4-8efc28cbb792 .dl { color: #CD5555 } /* Literal.String.Delimiter */\n",
       "div.a9295a4b4-766c-4508-84a4-8efc28cbb792 .sd { color: #CD5555 } /* Literal.String.Doc */\n",
       "div.a9295a4b4-766c-4508-84a4-8efc28cbb792 .s2 { color: #CD5555 } /* Literal.String.Double */\n",
       "div.a9295a4b4-766c-4508-84a4-8efc28cbb792 .se { color: #CD5555 } /* Literal.String.Escape */\n",
       "div.a9295a4b4-766c-4508-84a4-8efc28cbb792 .sh { color: #1c7e71; font-style: italic } /* Literal.String.Heredoc */\n",
       "div.a9295a4b4-766c-4508-84a4-8efc28cbb792 .si { color: #CD5555 } /* Literal.String.Interpol */\n",
       "div.a9295a4b4-766c-4508-84a4-8efc28cbb792 .sx { color: #cb6c20 } /* Literal.String.Other */\n",
       "div.a9295a4b4-766c-4508-84a4-8efc28cbb792 .sr { color: #1c7e71 } /* Literal.String.Regex */\n",
       "div.a9295a4b4-766c-4508-84a4-8efc28cbb792 .s1 { color: #CD5555 } /* Literal.String.Single */\n",
       "div.a9295a4b4-766c-4508-84a4-8efc28cbb792 .ss { color: #CD5555 } /* Literal.String.Symbol */\n",
       "div.a9295a4b4-766c-4508-84a4-8efc28cbb792 .bp { color: #658b00 } /* Name.Builtin.Pseudo */\n",
       "div.a9295a4b4-766c-4508-84a4-8efc28cbb792 .fm { color: #008b45 } /* Name.Function.Magic */\n",
       "div.a9295a4b4-766c-4508-84a4-8efc28cbb792 .vc { color: #00688B } /* Name.Variable.Class */\n",
       "div.a9295a4b4-766c-4508-84a4-8efc28cbb792 .vg { color: #00688B } /* Name.Variable.Global */\n",
       "div.a9295a4b4-766c-4508-84a4-8efc28cbb792 .vi { color: #00688B } /* Name.Variable.Instance */\n",
       "div.a9295a4b4-766c-4508-84a4-8efc28cbb792 .vm { color: #00688B } /* Name.Variable.Magic */\n",
       "div.a9295a4b4-766c-4508-84a4-8efc28cbb792 .il { color: #B452CD } /* Literal.Number.Integer.Long */\n",
       "        </style>\n",
       "        <div class=\"highlight\"><pre><span></span><span class=\"nt\">&lt;license</span> <span class=\"na\">xmlns:xlink=</span><span class=\"s\">&quot;http://www.w3.org/1999/xlink&quot;</span> <span class=\"na\">xmlns:mml=</span><span class=\"s\">&quot;http://www.w3.org/1998/Math/MathML&quot;</span> <span class=\"na\">xlink:href=</span><span class=\"s\">&quot;http://creativecommons.org/licenses/by/4.0/&quot;</span> <span class=\"na\">xlink:type=</span><span class=\"s\">&quot;simple&quot;</span><span class=\"nt\">&gt;</span>\n",
       "  <span class=\"nt\">&lt;license-p&gt;</span>This is an open access article distributed under the terms of the <span class=\"nt\">&lt;ext-link</span> <span class=\"na\">ext-link-type=</span><span class=\"s\">&quot;uri&quot;</span> <span class=\"na\">xlink:href=</span><span class=\"s\">&quot;http://creativecommons.org/licenses/by/4.0/&quot;</span> <span class=\"na\">xlink:type=</span><span class=\"s\">&quot;simple&quot;</span><span class=\"nt\">&gt;</span>Creative Commons Attribution License<span class=\"nt\">&lt;/ext-link&gt;</span>, which permits unrestricted use, distribution, and reproduction in any medium, provided the original author and source are credited.<span class=\"nt\">&lt;/license-p&gt;</span>\n",
       "<span class=\"nt\">&lt;/license&gt;</span>\n",
       "</pre></div>\n",
       "\n",
       "    </div>\n",
       "    "
      ],
      "text/plain": [
       "<display_xml.XML at 0x10b65f908>"
      ]
     },
     "metadata": {},
     "output_type": "display_data"
    }
   ],
   "source": [
    "display(XML(license, style='perldoc'))"
   ]
  },
  {
   "cell_type": "code",
   "execution_count": 112,
   "metadata": {},
   "outputs": [
    {
     "name": "stdout",
     "output_type": "stream",
     "text": [
      "None\n"
     ]
    }
   ],
   "source": [
    "print(license.text)"
   ]
  },
  {
   "cell_type": "code",
   "execution_count": 114,
   "metadata": {},
   "outputs": [
    {
     "name": "stdout",
     "output_type": "stream",
     "text": [
      "This is an open access article distributed under the terms of the Creative Commons Attribution License, which permits unrestricted use, distribution, and reproduction in any medium, provided the original author and source are credited.\n"
     ]
    }
   ],
   "source": [
    "import lxml.etree as et\n",
    "license_text = et.tostring(license, method='text', encoding='unicode')\n",
    "print(license_text)"
   ]
  },
  {
   "cell_type": "markdown",
   "metadata": {},
   "source": [
    "## Quick quiz before we move on!"
   ]
  },
  {
   "cell_type": "code",
   "execution_count": 132,
   "metadata": {
    "slideshow": {
     "slide_type": "skip"
    }
   },
   "outputs": [
    {
     "name": "stdout",
     "output_type": "stream",
     "text": [
      "\n",
      "<contrib contrib-type=\"author\" equal-contrib=\"yes\">\n",
      "    <name name-style=\"western\">\n",
      "        <surname>Chen</surname>\n",
      "        <given-names>Ximing</given-names>\n",
      "    </name>plossy\n",
      "</contrib>\n"
     ]
    }
   ],
   "source": [
    "text_to_display3 = \"\"\"\n",
    "<contrib contrib-type=\"author\" equal-contrib=\"yes\">\n",
    "    <name name-style=\"western\">\n",
    "        <surname>Chen</surname>\n",
    "        <given-names>Ximing</given-names>\n",
    "    </name>plossy\n",
    "</contrib>\"\"\"\n",
    "element = et.fromstring(text_to_display3, parser)\n",
    "print(text_to_display3)"
   ]
  },
  {
   "cell_type": "markdown",
   "metadata": {},
   "source": [
    "* element.tag?\n",
    "* element.attrib?"
   ]
  },
  {
   "cell_type": "code",
   "execution_count": 137,
   "metadata": {
    "hideCode": false
   },
   "outputs": [
    {
     "name": "stdout",
     "output_type": "stream",
     "text": [
      "element.tag: contrib\n",
      "element.attrib: {'contrib-type': 'author', 'equal-contrib': 'yes'}\n"
     ]
    }
   ],
   "source": [
    "print('element.tag: {}'.format(element.tag))\n",
    "print('element.attrib: {}'.format(element.attrib))"
   ]
  },
  {
   "cell_type": "markdown",
   "metadata": {},
   "source": [
    "## Quick quiz before we move on!"
   ]
  },
  {
   "cell_type": "code",
   "execution_count": 134,
   "metadata": {
    "slideshow": {
     "slide_type": "skip"
    }
   },
   "outputs": [
    {
     "name": "stdout",
     "output_type": "stream",
     "text": [
      "\n",
      "<contrib contrib-type=\"author\" equal-contrib=\"yes\">\n",
      "    <name name-style=\"western\">\n",
      "        <surname>Chen</surname>\n",
      "        <given-names>Ximing</given-names>\n",
      "    </name>plossy\n",
      "</contrib>\n"
     ]
    }
   ],
   "source": [
    "text_to_display3 = \"\"\"\n",
    "<contrib contrib-type=\"author\" equal-contrib=\"yes\">\n",
    "    <name name-style=\"western\">\n",
    "        <surname>Chen</surname>\n",
    "        <given-names>Ximing</given-names>\n",
    "    </name>plossy\n",
    "</contrib>\"\"\"\n",
    "element = et.fromstring(text_to_display3, parser)\n",
    "print(text_to_display3)"
   ]
  },
  {
   "cell_type": "code",
   "execution_count": 139,
   "metadata": {},
   "outputs": [],
   "source": [
    "new_element = element.xpath('./name')[0]"
   ]
  },
  {
   "cell_type": "markdown",
   "metadata": {},
   "source": [
    "* new_element.tag?\n",
    "* new_element.attrib?\n",
    "* new_element.tail?"
   ]
  },
  {
   "cell_type": "code",
   "execution_count": 140,
   "metadata": {},
   "outputs": [
    {
     "name": "stdout",
     "output_type": "stream",
     "text": [
      "new_element.tag: name\n",
      "new_element.attrib: {'name-style': 'western'}\n",
      "new_element.tail: plossy\n",
      "\n"
     ]
    }
   ],
   "source": [
    "print('new_element.tag: {}'.format(new_element.tag))\n",
    "print('new_element.attrib: {}'.format(new_element.attrib))\n",
    "print('new_element.tail: {}'.format(new_element.tail))"
   ]
  },
  {
   "cell_type": "markdown",
   "metadata": {},
   "source": [
    "# Using lxml.etree and allofplos Article class to parse XML files"
   ]
  },
  {
   "cell_type": "code",
   "execution_count": 161,
   "metadata": {
    "scrolled": true,
    "slideshow": {
     "slide_type": "fragment"
    }
   },
   "outputs": [
    {
     "data": {
      "text/plain": [
       "'/Users/Elizabeth/PLOS_Corpus_Project/allofplos/allofplos/allofplos_xml/journal.pone.0183591.xml'"
      ]
     },
     "execution_count": 161,
     "metadata": {},
     "output_type": "execute_result"
    }
   ],
   "source": [
    "from allofplos import Article\n",
    "doi = '10.1371/journal.pone.0183591'\n",
    "article = Article(doi)\n",
    "article.filename"
   ]
  },
  {
   "cell_type": "code",
   "execution_count": 162,
   "metadata": {},
   "outputs": [
    {
     "data": {
      "text/plain": [
       "True"
      ]
     },
     "execution_count": 162,
     "metadata": {},
     "output_type": "execute_result"
    }
   ],
   "source": [
    "# Is the article XML file locally stored?\n",
    "article.local"
   ]
  },
  {
   "cell_type": "code",
   "execution_count": 165,
   "metadata": {
    "scrolled": true,
    "slideshow": {
     "slide_type": "fragment"
    }
   },
   "outputs": [
    {
     "data": {
      "text/plain": [
       "[<Element body at 0x10e84a588>]"
      ]
     },
     "execution_count": 165,
     "metadata": {},
     "output_type": "execute_result"
    }
   ],
   "source": [
    "tree = article.tree\n",
    "tree.xpath('./body')"
   ]
  },
  {
   "cell_type": "code",
   "execution_count": 164,
   "metadata": {
    "scrolled": true,
    "slideshow": {
     "slide_type": "fragment"
    }
   },
   "outputs": [
    {
     "data": {
      "text/plain": [
       "[<Element front at 0x10e84a888>]"
      ]
     },
     "execution_count": 164,
     "metadata": {},
     "output_type": "execute_result"
    }
   ],
   "source": [
    "xml_root = article.root\n",
    "xml_root.xpath('.//license')"
   ]
  },
  {
   "cell_type": "code",
   "execution_count": 167,
   "metadata": {},
   "outputs": [
    {
     "data": {
      "text/plain": [
       "{'{http://www.w3.org/1999/xlink}href': 'http://creativecommons.org/licenses/by/4.0/', '{http://www.w3.org/1999/xlink}type': 'simple'}"
      ]
     },
     "execution_count": 167,
     "metadata": {},
     "output_type": "execute_result"
    }
   ],
   "source": [
    "license = xml_root.xpath('.//license')[0]\n",
    "license.attrib"
   ]
  },
  {
   "cell_type": "markdown",
   "metadata": {},
   "source": [
    "# Project example: which articles use PCR in their methods section?\n",
    "## First, on finding elements with xpath searching tag AND attribute\n",
    "* Body of article is divided into sections ('sec')\n",
    "* Method section attribute of note: `{'sec-type': 'materials|methods'}` or `{'sec-type': 'methods'}`"
   ]
  },
  {
   "cell_type": "code",
   "execution_count": 177,
   "metadata": {},
   "outputs": [
    {
     "name": "stdout",
     "output_type": "stream",
     "text": [
      "[<Element sec at 0x10e863cc8>]\n"
     ]
    }
   ],
   "source": [
    "methods_sections = xml_root.xpath(\"//sec[@sec-type='materials|methods']\")\n",
    "print(methods_sections)"
   ]
  },
  {
   "cell_type": "code",
   "execution_count": 194,
   "metadata": {},
   "outputs": [
    {
     "name": "stdout",
     "output_type": "stream",
     "text": [
      "['10.1371/journal.pone.0142631', '10.1371/journal.pone.0174559', '10.1371/journal.pone.0164614', '10.1371/journal.pone.0042632', '10.1371/journal.pone.0022867', '10.1371/journal.pone.0112671', '10.1371/journal.pone.0165158', '10.1371/journal.pone.0062082', '10.1371/journal.pone.0111352', '10.1371/journal.pone.0039120', '10.1371/journal.pone.0052299', '10.1371/journal.pone.0150292', '10.1371/journal.pgen.1003790', '10.1371/journal.pone.0102851', '10.1371/journal.pone.0126598', '10.1371/journal.pbio.2002267', '10.1371/journal.pone.0015766', '10.1371/journal.pone.0033040']\n"
     ]
    }
   ],
   "source": [
    "from allofplos.samples.corpus_analysis import get_random_list_of_dois\n",
    "\n",
    "# First get list of articles/DOIs\n",
    "dois = get_random_list_of_dois(count=50)\n",
    "pcr_list = []\n",
    "\n",
    "for doi in dois:\n",
    "    # Step 1: initialize article object\n",
    "    article.doi = doi\n",
    "    xml_root = article.root\n",
    "    # Step 2: find Method sections\n",
    "    methods_sections = xml_root.xpath(\"//sec[@sec-type='materials|methods']\")\n",
    "    if not methods_sections:\n",
    "        methods_sections = xml_root.xpath(\"//sec[@sec-type='methods']\")\n",
    "    for sec in methods_sections:\n",
    "        # Step 3: turn the method sections into strings\n",
    "        method_string = et.tostring(sec, method='text', encoding='unicode')\n",
    "        # Step 4: add DOI if 'PCR' in string\n",
    "        if 'PCR' in method_string:\n",
    "            pcr_list.append(article.doi)\n",
    "            break\n",
    "        else:\n",
    "            pass\n",
    "\n",
    "print(pcr_list)\n",
    "        \n",
    "    "
   ]
  }
 ],
 "metadata": {
  "celltoolbar": "Hide code",
  "kernelspec": {
   "display_name": "Python 3",
   "language": "python",
   "name": "python3"
  },
  "language_info": {
   "codemirror_mode": {
    "name": "ipython",
    "version": 3
   },
   "file_extension": ".py",
   "mimetype": "text/x-python",
   "name": "python",
   "nbconvert_exporter": "python",
   "pygments_lexer": "ipython3",
   "version": "3.6.3"
  },
  "toc": {
   "colors": {
    "hover_highlight": "#DAA520",
    "navigate_num": "#000000",
    "navigate_text": "#333333",
    "running_highlight": "#FF0000",
    "selected_highlight": "#FFD700",
    "sidebar_border": "#EEEEEE",
    "wrapper_background": "#FFFFFF"
   },
   "moveMenuLeft": true,
   "nav_menu": {
    "height": "12px",
    "width": "252px"
   },
   "navigate_menu": true,
   "number_sections": true,
   "sideBar": true,
   "skip_h1_title": false,
   "threshold": 4,
   "toc_cell": false,
   "toc_position": {},
   "toc_section_display": "block",
   "toc_window_display": false,
   "widenNotebook": false
  }
 },
 "nbformat": 4,
 "nbformat_minor": 2
}
