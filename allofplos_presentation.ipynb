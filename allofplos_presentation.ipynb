{
 "cells": [
  {
   "cell_type": "code",
   "execution_count": 2,
   "metadata": {
    "hideCode": false,
    "slideshow": {
     "slide_type": "skip"
    }
   },
   "outputs": [],
   "source": [
    "import lxml.etree as et\n",
    "\n",
    "import pygments\n",
    "from pygments import highlight\n",
    "from pygments.lexers import XmlLexer\n",
    "from pygments.formatters import Terminal256Formatter\n",
    "import IPython\n",
    "\n",
    "\n",
    "def display_xml_str_nice(xml_str, style=''):\n",
    "    \"\"\"xml_element: byte string representation of xml element.\"\"\"\n",
    "    if style:\n",
    "        display_xml_bytes_nice(xml_str.encode('utf-8'), style=style)\n",
    "    else:\n",
    "        display_xml_bytes_nice(xml_str.encode('utf-8'))\n",
    "\n",
    "def display_xml_el_nice(xml_el, style=''):\n",
    "    if style:\n",
    "        display_xml_bytes_nice(et.tostring(xml_el), style=style)\n",
    "    else:\n",
    "        display_xml_bytes_nice(et.tostring(xml_el))\n",
    "\n",
    "def display_xml_bytes_nice(xml_bytes, style=''):\n",
    "    \"\"\"xml_element: byte string representation of xml element.\"\"\"\n",
    "    if style:\n",
    "        print(highlight(xml_bytes, XmlLexer() ,Terminal256Formatter(style=style)))\n",
    "    else:\n",
    "        print(highlight(xml_bytes, XmlLexer() ,Terminal256Formatter(style='default')))\n",
    "    \n",
    "test_file = 'tests/testdata/element.xml'\n",
    "test_tree = et.parse(test_file)\n",
    "test_root = test_tree.getroot()"
   ]
  },
  {
   "cell_type": "code",
   "execution_count": null,
   "metadata": {
    "hideCode": false,
    "slideshow": {
     "slide_type": "skip"
    }
   },
   "outputs": [],
   "source": [
    "test_file = 'tests/testdata/element.xml'\n",
    "test_tree = et.parse(test_file)\n",
    "test_root = test_tree.getroot()\n",
    "print(test_root.getchildren())"
   ]
  },
  {
   "cell_type": "code",
   "execution_count": null,
   "metadata": {
    "raw_mimetype": "text/html",
    "slideshow": {
     "slide_type": "skip"
    }
   },
   "outputs": [],
   "source": [
    "from pygments.styles import get_all_styles\n",
    "styles = list(get_all_styles())\n",
    "text_to_display = \"\"\"\n",
    "<title-group>\n",
    "    <article-title>Why Most Published Research Findings Are False</article-title>\n",
    "    <alt-title alt-title-type=\"running-head\">Essay</alt-title>\n",
    "</title-group>\"\"\"\n",
    "\n",
    "for style in styles:\n",
    "    print(\"style: {}\\n\".format(style))\n",
    "    display_xml_str_nice(text_to_display, style=style)\n",
    "    print(\"\\n\\n\")"
   ]
  },
  {
   "cell_type": "code",
   "execution_count": null,
   "metadata": {
    "hideCode": true,
    "hidePrompt": false,
    "slideshow": {
     "slide_type": "slide"
    }
   },
   "outputs": [],
   "source": [
    "display_xml_str_nice(text_to_display, style='perldoc')"
   ]
  },
  {
   "cell_type": "code",
   "execution_count": null,
   "metadata": {
    "slideshow": {
     "slide_type": "fragment"
    }
   },
   "outputs": [],
   "source": [
    "test_root.getchildren()"
   ]
  },
  {
   "cell_type": "code",
   "execution_count": null,
   "metadata": {
    "slideshow": {
     "slide_type": "fragment"
    }
   },
   "outputs": [],
   "source": [
    "print('test_root.tag: {}'.format(test_root.tag))\n",
    "print('test_root.attrib: {}'.format(test_root.attrib))\n",
    "print('test_root.text: {}'.format(test_root.text))"
   ]
  },
  {
   "cell_type": "code",
   "execution_count": null,
   "metadata": {
    "slideshow": {
     "slide_type": "skip"
    }
   },
   "outputs": [],
   "source": [
    "text_to_display2 = \"\"\"\n",
    "<p>\n",
    "First, let us define bias as the combination of various design, data, analysis, and presentation factors that tend to produce research findings when they should not be produced. Let\n",
    "<italic>u</italic>\n",
    "be the proportion of probed analyses that would not have been “research findings,” but nevertheless end up presented and reported as such, because of bias. Bias should not be confused with chance variability that causes some findings to be false by chance even though the study design, data, analysis, and presentation are perfect. Bias can entail manipulation in the analysis or reporting of findings. Selective or distorted reporting is a typical form of such bias. We may assume that\n",
    "<italic>u</italic>\n",
    "does not depend on whether a true relationship exists or not. This is not an unreasonable assumption, since typically it is impossible to know which relationships are indeed true.\n",
    "</p>\"\"\"\n",
    "\n",
    "text_to_display3 = \"\"\"\n",
    "<contrib contrib-type=\"author\" equal-contrib=\"yes\">\n",
    "    <name name-style=\"western\">\n",
    "        <surname>Chen</surname>\n",
    "        <given-names>Ximing</given-names>\n",
    "    </name>\n",
    "</contrib>\"\"\""
   ]
  },
  {
   "cell_type": "code",
   "execution_count": null,
   "metadata": {
    "hideCode": true,
    "slideshow": {
     "slide_type": "slide"
    }
   },
   "outputs": [],
   "source": [
    "display_xml_str_nice(text_to_display3, style='perldoc')\n",
    "contrib_elem = et.fromstring(text_to_display3)\n",
    "# print(contrib_elem.xpath('//surname'))\n",
    "print('contrib_elem.tag: {}'.format(contrib_elem.tag))\n",
    "print('contrib_elem.attrib: {}'.format(contrib_elem.attrib))\n",
    "# print('contrib_elem.text: \"{}\"'.format(contrib_elem.text))\n",
    "# print('contrib_elem.tail: \"{}\"'.format(contrib_elem.tail))"
   ]
  },
  {
   "cell_type": "code",
   "execution_count": null,
   "metadata": {
    "slideshow": {
     "slide_type": "slide"
    }
   },
   "outputs": [],
   "source": [
    "display_xml_str_nice(text_to_display2, style='perldoc')\n",
    "test_root2 = et.fromstring(text_to_display2)\n"
   ]
  },
  {
   "cell_type": "code",
   "execution_count": null,
   "metadata": {},
   "outputs": [],
   "source": [
    "italics = test_root2.xpath('/p/italic')\n",
    "print(italics)\n",
    "print(type(italics))"
   ]
  },
  {
   "cell_type": "code",
   "execution_count": null,
   "metadata": {},
   "outputs": [],
   "source": [
    "from article_class import Article\n",
    "from samples.corpus_analysis import *\n",
    "doi_list = get_random_list_of_dois(count=50)\n",
    "article = Article(doi)\n",
    "for doi in doi_list:\n",
    "    article.doi = doi\n",
    "    print(article.journal)"
   ]
  },
  {
   "cell_type": "markdown",
   "metadata": {},
   "source": [
    "## Code tidbits that are useful"
   ]
  },
  {
   "cell_type": "code",
   "execution_count": 4,
   "metadata": {},
   "outputs": [
    {
     "data": {
      "text/plain": [
       "['article.abstract',\n",
       " 'article.authors',\n",
       " 'article.contributors',\n",
       " 'article.corr_author',\n",
       " 'article.correct_or_retract',\n",
       " 'article.counts',\n",
       " 'article.doi',\n",
       " 'article.dtd',\n",
       " 'article.editor',\n",
       " 'article.filename',\n",
       " 'article.journal',\n",
       " 'article.local',\n",
       " 'article.page',\n",
       " 'article.plostype',\n",
       " 'article.proof',\n",
       " 'article.pubdate',\n",
       " 'article.related_doi',\n",
       " 'article.remote_element_tree',\n",
       " 'article.root',\n",
       " 'article.text_editor',\n",
       " 'article.title',\n",
       " 'article.tree',\n",
       " 'article.type_',\n",
       " 'article.url',\n",
       " 'article.word_count',\n",
       " 'article.xml']"
      ]
     },
     "execution_count": 4,
     "metadata": {},
     "output_type": "execute_result"
    }
   ],
   "source": [
    "# Every Article class property\n",
    "from article_class import Article\n",
    "property_names=[p for p in dir(Article) if isinstance(getattr(Article,p),property)]\n",
    "\n",
    "property_names=[str('article.' + p) for p in property_names]\n",
    "property_names"
   ]
  },
  {
   "cell_type": "code",
   "execution_count": null,
   "metadata": {},
   "outputs": [],
   "source": []
  }
 ],
 "metadata": {
  "celltoolbar": "Hide code",
  "kernelspec": {
   "display_name": "Python 3",
   "language": "python",
   "name": "python3"
  },
  "language_info": {
   "codemirror_mode": {
    "name": "ipython",
    "version": 3
   },
   "file_extension": ".py",
   "mimetype": "text/x-python",
   "name": "python",
   "nbconvert_exporter": "python",
   "pygments_lexer": "ipython3",
   "version": "3.6.2"
  },
  "toc": {
   "colors": {
    "hover_highlight": "#DAA520",
    "navigate_num": "#000000",
    "navigate_text": "#333333",
    "running_highlight": "#FF0000",
    "selected_highlight": "#FFD700",
    "sidebar_border": "#EEEEEE",
    "wrapper_background": "#FFFFFF"
   },
   "moveMenuLeft": true,
   "nav_menu": {
    "height": "12px",
    "width": "252px"
   },
   "navigate_menu": true,
   "number_sections": true,
   "sideBar": true,
   "skip_h1_title": false,
   "threshold": 4,
   "toc_cell": false,
   "toc_position": {},
   "toc_section_display": "block",
   "toc_window_display": false,
   "widenNotebook": false
  }
 },
 "nbformat": 4,
 "nbformat_minor": 2
}
